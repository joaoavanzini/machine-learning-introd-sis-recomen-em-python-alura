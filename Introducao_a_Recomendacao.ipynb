{
  "nbformat": 4,
  "nbformat_minor": 0,
  "metadata": {
    "colab": {
      "name": "Introducao-a-Recomendacao.ipynb",
      "provenance": [],
      "collapsed_sections": [],
      "toc_visible": true,
      "authorship_tag": "ABX9TyMYXIQv86LzcjB/YQqaQ70l",
      "include_colab_link": true
    },
    "kernelspec": {
      "name": "python3",
      "display_name": "Python 3"
    },
    "language_info": {
      "name": "python"
    }
  },
  "cells": [
    {
      "cell_type": "markdown",
      "metadata": {
        "id": "view-in-github",
        "colab_type": "text"
      },
      "source": [
        "<a href=\"https://colab.research.google.com/github/vicpb/machine-learning-introd-sis-recomen-em-python-alura/blob/main/Introducao_a_Recomendacao.ipynb\" target=\"_parent\"><img src=\"https://colab.research.google.com/assets/colab-badge.svg\" alt=\"Open In Colab\"/></a>"
      ]
    },
    {
      "cell_type": "code",
      "metadata": {
        "colab": {
          "base_uri": "https://localhost:8080/",
          "height": 235
        },
        "id": "0eJuy5msIMv9",
        "outputId": "52a20024-28b2-4646-e327-94368b3fd87c"
      },
      "source": [
        "import pandas as pd\n",
        "\n",
        "filmes = pd.read_csv('movies.csv')\n",
        "filmes.columns = [\"filmeId\", \"titulo\", \"generos\"]\n",
        "filmes = filmes.set_index(\"filmeId\")\n",
        "filmes.head()"
      ],
      "execution_count": 1,
      "outputs": [
        {
          "output_type": "execute_result",
          "data": {
            "text/html": [
              "<div>\n",
              "<style scoped>\n",
              "    .dataframe tbody tr th:only-of-type {\n",
              "        vertical-align: middle;\n",
              "    }\n",
              "\n",
              "    .dataframe tbody tr th {\n",
              "        vertical-align: top;\n",
              "    }\n",
              "\n",
              "    .dataframe thead th {\n",
              "        text-align: right;\n",
              "    }\n",
              "</style>\n",
              "<table border=\"1\" class=\"dataframe\">\n",
              "  <thead>\n",
              "    <tr style=\"text-align: right;\">\n",
              "      <th></th>\n",
              "      <th>titulo</th>\n",
              "      <th>generos</th>\n",
              "    </tr>\n",
              "    <tr>\n",
              "      <th>filmeId</th>\n",
              "      <th></th>\n",
              "      <th></th>\n",
              "    </tr>\n",
              "  </thead>\n",
              "  <tbody>\n",
              "    <tr>\n",
              "      <th>1</th>\n",
              "      <td>Toy Story (1995)</td>\n",
              "      <td>Adventure|Animation|Children|Comedy|Fantasy</td>\n",
              "    </tr>\n",
              "    <tr>\n",
              "      <th>2</th>\n",
              "      <td>Jumanji (1995)</td>\n",
              "      <td>Adventure|Children|Fantasy</td>\n",
              "    </tr>\n",
              "    <tr>\n",
              "      <th>3</th>\n",
              "      <td>Grumpier Old Men (1995)</td>\n",
              "      <td>Comedy|Romance</td>\n",
              "    </tr>\n",
              "    <tr>\n",
              "      <th>4</th>\n",
              "      <td>Waiting to Exhale (1995)</td>\n",
              "      <td>Comedy|Drama|Romance</td>\n",
              "    </tr>\n",
              "    <tr>\n",
              "      <th>5</th>\n",
              "      <td>Father of the Bride Part II (1995)</td>\n",
              "      <td>Comedy</td>\n",
              "    </tr>\n",
              "  </tbody>\n",
              "</table>\n",
              "</div>"
            ],
            "text/plain": [
              "                                     titulo                                      generos\n",
              "filmeId                                                                                 \n",
              "1                          Toy Story (1995)  Adventure|Animation|Children|Comedy|Fantasy\n",
              "2                            Jumanji (1995)                   Adventure|Children|Fantasy\n",
              "3                   Grumpier Old Men (1995)                               Comedy|Romance\n",
              "4                  Waiting to Exhale (1995)                         Comedy|Drama|Romance\n",
              "5        Father of the Bride Part II (1995)                                       Comedy"
            ]
          },
          "metadata": {
            "tags": []
          },
          "execution_count": 1
        }
      ]
    },
    {
      "cell_type": "code",
      "metadata": {
        "colab": {
          "base_uri": "https://localhost:8080/",
          "height": 204
        },
        "id": "KpLncE_mIt5h",
        "outputId": "c5c3a87e-cac1-49c1-9242-daec5f1b52dd"
      },
      "source": [
        "notas = pd.read_csv('ratings.csv')\n",
        "notas.columns = [\"usuarioId\",\"filmeId\", \"nota\", \"momento\"]\n",
        "notas.head()"
      ],
      "execution_count": 2,
      "outputs": [
        {
          "output_type": "execute_result",
          "data": {
            "text/html": [
              "<div>\n",
              "<style scoped>\n",
              "    .dataframe tbody tr th:only-of-type {\n",
              "        vertical-align: middle;\n",
              "    }\n",
              "\n",
              "    .dataframe tbody tr th {\n",
              "        vertical-align: top;\n",
              "    }\n",
              "\n",
              "    .dataframe thead th {\n",
              "        text-align: right;\n",
              "    }\n",
              "</style>\n",
              "<table border=\"1\" class=\"dataframe\">\n",
              "  <thead>\n",
              "    <tr style=\"text-align: right;\">\n",
              "      <th></th>\n",
              "      <th>usuarioId</th>\n",
              "      <th>filmeId</th>\n",
              "      <th>nota</th>\n",
              "      <th>momento</th>\n",
              "    </tr>\n",
              "  </thead>\n",
              "  <tbody>\n",
              "    <tr>\n",
              "      <th>0</th>\n",
              "      <td>1</td>\n",
              "      <td>1</td>\n",
              "      <td>4.0</td>\n",
              "      <td>964982703.0</td>\n",
              "    </tr>\n",
              "    <tr>\n",
              "      <th>1</th>\n",
              "      <td>1</td>\n",
              "      <td>3</td>\n",
              "      <td>4.0</td>\n",
              "      <td>964981247.0</td>\n",
              "    </tr>\n",
              "    <tr>\n",
              "      <th>2</th>\n",
              "      <td>1</td>\n",
              "      <td>6</td>\n",
              "      <td>4.0</td>\n",
              "      <td>964982224.0</td>\n",
              "    </tr>\n",
              "    <tr>\n",
              "      <th>3</th>\n",
              "      <td>1</td>\n",
              "      <td>47</td>\n",
              "      <td>5.0</td>\n",
              "      <td>964983815.0</td>\n",
              "    </tr>\n",
              "    <tr>\n",
              "      <th>4</th>\n",
              "      <td>1</td>\n",
              "      <td>50</td>\n",
              "      <td>5.0</td>\n",
              "      <td>964982931.0</td>\n",
              "    </tr>\n",
              "  </tbody>\n",
              "</table>\n",
              "</div>"
            ],
            "text/plain": [
              "   usuarioId  filmeId  nota      momento\n",
              "0          1        1   4.0  964982703.0\n",
              "1          1        3   4.0  964981247.0\n",
              "2          1        6   4.0  964982224.0\n",
              "3          1       47   5.0  964983815.0\n",
              "4          1       50   5.0  964982931.0"
            ]
          },
          "metadata": {
            "tags": []
          },
          "execution_count": 2
        }
      ]
    },
    {
      "cell_type": "code",
      "metadata": {
        "colab": {
          "base_uri": "https://localhost:8080/",
          "height": 297
        },
        "id": "HVhNlAsKI_Fd",
        "outputId": "7f33f94f-0897-4d33-9e83-de794dc78f27"
      },
      "source": [
        "notas.describe()"
      ],
      "execution_count": 3,
      "outputs": [
        {
          "output_type": "execute_result",
          "data": {
            "text/html": [
              "<div>\n",
              "<style scoped>\n",
              "    .dataframe tbody tr th:only-of-type {\n",
              "        vertical-align: middle;\n",
              "    }\n",
              "\n",
              "    .dataframe tbody tr th {\n",
              "        vertical-align: top;\n",
              "    }\n",
              "\n",
              "    .dataframe thead th {\n",
              "        text-align: right;\n",
              "    }\n",
              "</style>\n",
              "<table border=\"1\" class=\"dataframe\">\n",
              "  <thead>\n",
              "    <tr style=\"text-align: right;\">\n",
              "      <th></th>\n",
              "      <th>usuarioId</th>\n",
              "      <th>filmeId</th>\n",
              "      <th>nota</th>\n",
              "      <th>momento</th>\n",
              "    </tr>\n",
              "  </thead>\n",
              "  <tbody>\n",
              "    <tr>\n",
              "      <th>count</th>\n",
              "      <td>43084.000000</td>\n",
              "      <td>43084.000000</td>\n",
              "      <td>43084.000000</td>\n",
              "      <td>4.308300e+04</td>\n",
              "    </tr>\n",
              "    <tr>\n",
              "      <th>mean</th>\n",
              "      <td>145.216206</td>\n",
              "      <td>18582.328103</td>\n",
              "      <td>3.566951</td>\n",
              "      <td>1.181536e+09</td>\n",
              "    </tr>\n",
              "    <tr>\n",
              "      <th>std</th>\n",
              "      <td>85.595025</td>\n",
              "      <td>35281.316493</td>\n",
              "      <td>1.022535</td>\n",
              "      <td>2.146729e+08</td>\n",
              "    </tr>\n",
              "    <tr>\n",
              "      <th>min</th>\n",
              "      <td>1.000000</td>\n",
              "      <td>1.000000</td>\n",
              "      <td>0.500000</td>\n",
              "      <td>8.293223e+08</td>\n",
              "    </tr>\n",
              "    <tr>\n",
              "      <th>25%</th>\n",
              "      <td>68.000000</td>\n",
              "      <td>1090.000000</td>\n",
              "      <td>3.000000</td>\n",
              "      <td>9.785596e+08</td>\n",
              "    </tr>\n",
              "    <tr>\n",
              "      <th>50%</th>\n",
              "      <td>140.000000</td>\n",
              "      <td>2791.000000</td>\n",
              "      <td>4.000000</td>\n",
              "      <td>1.161566e+09</td>\n",
              "    </tr>\n",
              "    <tr>\n",
              "      <th>75%</th>\n",
              "      <td>221.000000</td>\n",
              "      <td>7155.000000</td>\n",
              "      <td>4.000000</td>\n",
              "      <td>1.393542e+09</td>\n",
              "    </tr>\n",
              "    <tr>\n",
              "      <th>max</th>\n",
              "      <td>288.000000</td>\n",
              "      <td>193587.000000</td>\n",
              "      <td>5.000000</td>\n",
              "      <td>1.537650e+09</td>\n",
              "    </tr>\n",
              "  </tbody>\n",
              "</table>\n",
              "</div>"
            ],
            "text/plain": [
              "          usuarioId        filmeId          nota       momento\n",
              "count  43084.000000   43084.000000  43084.000000  4.308300e+04\n",
              "mean     145.216206   18582.328103      3.566951  1.181536e+09\n",
              "std       85.595025   35281.316493      1.022535  2.146729e+08\n",
              "min        1.000000       1.000000      0.500000  8.293223e+08\n",
              "25%       68.000000    1090.000000      3.000000  9.785596e+08\n",
              "50%      140.000000    2791.000000      4.000000  1.161566e+09\n",
              "75%      221.000000    7155.000000      4.000000  1.393542e+09\n",
              "max      288.000000  193587.000000      5.000000  1.537650e+09"
            ]
          },
          "metadata": {
            "tags": []
          },
          "execution_count": 3
        }
      ]
    },
    {
      "cell_type": "markdown",
      "metadata": {
        "id": "YUcJVpoVJP2_"
      },
      "source": [
        "#Primeira tentativa de recomendação: heurística de total de votos"
      ]
    },
    {
      "cell_type": "code",
      "metadata": {
        "colab": {
          "base_uri": "https://localhost:8080/"
        },
        "id": "6N-9nDEtJPNI",
        "outputId": "89416d53-f968-41e7-f058-9e66568ff1e2"
      },
      "source": [
        "total_de_votos = notas['filmeId'].value_counts()\n",
        "total_de_votos.head()"
      ],
      "execution_count": 4,
      "outputs": [
        {
          "output_type": "execute_result",
          "data": {
            "text/plain": [
              "356     153\n",
              "296     151\n",
              "318     147\n",
              "2571    134\n",
              "593     131\n",
              "Name: filmeId, dtype: int64"
            ]
          },
          "metadata": {
            "tags": []
          },
          "execution_count": 4
        }
      ]
    },
    {
      "cell_type": "code",
      "metadata": {
        "colab": {
          "base_uri": "https://localhost:8080/",
          "height": 235
        },
        "id": "uFbcKnVFJLxk",
        "outputId": "0f0e690f-987b-4ebe-bf26-c5875111397f"
      },
      "source": [
        "filmes['total_de_votos'] = total_de_votos\n",
        "filmes.head()"
      ],
      "execution_count": 5,
      "outputs": [
        {
          "output_type": "execute_result",
          "data": {
            "text/html": [
              "<div>\n",
              "<style scoped>\n",
              "    .dataframe tbody tr th:only-of-type {\n",
              "        vertical-align: middle;\n",
              "    }\n",
              "\n",
              "    .dataframe tbody tr th {\n",
              "        vertical-align: top;\n",
              "    }\n",
              "\n",
              "    .dataframe thead th {\n",
              "        text-align: right;\n",
              "    }\n",
              "</style>\n",
              "<table border=\"1\" class=\"dataframe\">\n",
              "  <thead>\n",
              "    <tr style=\"text-align: right;\">\n",
              "      <th></th>\n",
              "      <th>titulo</th>\n",
              "      <th>generos</th>\n",
              "      <th>total_de_votos</th>\n",
              "    </tr>\n",
              "    <tr>\n",
              "      <th>filmeId</th>\n",
              "      <th></th>\n",
              "      <th></th>\n",
              "      <th></th>\n",
              "    </tr>\n",
              "  </thead>\n",
              "  <tbody>\n",
              "    <tr>\n",
              "      <th>1</th>\n",
              "      <td>Toy Story (1995)</td>\n",
              "      <td>Adventure|Animation|Children|Comedy|Fantasy</td>\n",
              "      <td>107.0</td>\n",
              "    </tr>\n",
              "    <tr>\n",
              "      <th>2</th>\n",
              "      <td>Jumanji (1995)</td>\n",
              "      <td>Adventure|Children|Fantasy</td>\n",
              "      <td>45.0</td>\n",
              "    </tr>\n",
              "    <tr>\n",
              "      <th>3</th>\n",
              "      <td>Grumpier Old Men (1995)</td>\n",
              "      <td>Comedy|Romance</td>\n",
              "      <td>26.0</td>\n",
              "    </tr>\n",
              "    <tr>\n",
              "      <th>4</th>\n",
              "      <td>Waiting to Exhale (1995)</td>\n",
              "      <td>Comedy|Drama|Romance</td>\n",
              "      <td>5.0</td>\n",
              "    </tr>\n",
              "    <tr>\n",
              "      <th>5</th>\n",
              "      <td>Father of the Bride Part II (1995)</td>\n",
              "      <td>Comedy</td>\n",
              "      <td>25.0</td>\n",
              "    </tr>\n",
              "  </tbody>\n",
              "</table>\n",
              "</div>"
            ],
            "text/plain": [
              "                                     titulo  ... total_de_votos\n",
              "filmeId                                      ...               \n",
              "1                          Toy Story (1995)  ...          107.0\n",
              "2                            Jumanji (1995)  ...           45.0\n",
              "3                   Grumpier Old Men (1995)  ...           26.0\n",
              "4                  Waiting to Exhale (1995)  ...            5.0\n",
              "5        Father of the Bride Part II (1995)  ...           25.0\n",
              "\n",
              "[5 rows x 3 columns]"
            ]
          },
          "metadata": {
            "tags": []
          },
          "execution_count": 5
        }
      ]
    },
    {
      "cell_type": "code",
      "metadata": {
        "colab": {
          "base_uri": "https://localhost:8080/",
          "height": 390
        },
        "id": "2es-a5WZJ0Wt",
        "outputId": "73f68ac0-a2f6-42aa-dcae-c31193815310"
      },
      "source": [
        "filmes.sort_values(\"total_de_votos\", ascending = False).head(10)"
      ],
      "execution_count": 6,
      "outputs": [
        {
          "output_type": "execute_result",
          "data": {
            "text/html": [
              "<div>\n",
              "<style scoped>\n",
              "    .dataframe tbody tr th:only-of-type {\n",
              "        vertical-align: middle;\n",
              "    }\n",
              "\n",
              "    .dataframe tbody tr th {\n",
              "        vertical-align: top;\n",
              "    }\n",
              "\n",
              "    .dataframe thead th {\n",
              "        text-align: right;\n",
              "    }\n",
              "</style>\n",
              "<table border=\"1\" class=\"dataframe\">\n",
              "  <thead>\n",
              "    <tr style=\"text-align: right;\">\n",
              "      <th></th>\n",
              "      <th>titulo</th>\n",
              "      <th>generos</th>\n",
              "      <th>total_de_votos</th>\n",
              "    </tr>\n",
              "    <tr>\n",
              "      <th>filmeId</th>\n",
              "      <th></th>\n",
              "      <th></th>\n",
              "      <th></th>\n",
              "    </tr>\n",
              "  </thead>\n",
              "  <tbody>\n",
              "    <tr>\n",
              "      <th>356</th>\n",
              "      <td>Forrest Gump (1994)</td>\n",
              "      <td>Comedy|Drama|Romance|War</td>\n",
              "      <td>153.0</td>\n",
              "    </tr>\n",
              "    <tr>\n",
              "      <th>296</th>\n",
              "      <td>Pulp Fiction (1994)</td>\n",
              "      <td>Comedy|Crime|Drama|Thriller</td>\n",
              "      <td>151.0</td>\n",
              "    </tr>\n",
              "    <tr>\n",
              "      <th>318</th>\n",
              "      <td>Shawshank Redemption, The (1994)</td>\n",
              "      <td>Crime|Drama</td>\n",
              "      <td>147.0</td>\n",
              "    </tr>\n",
              "    <tr>\n",
              "      <th>2571</th>\n",
              "      <td>Matrix, The (1999)</td>\n",
              "      <td>Action|Sci-Fi|Thriller</td>\n",
              "      <td>134.0</td>\n",
              "    </tr>\n",
              "    <tr>\n",
              "      <th>593</th>\n",
              "      <td>Silence of the Lambs, The (1991)</td>\n",
              "      <td>Crime|Horror|Thriller</td>\n",
              "      <td>131.0</td>\n",
              "    </tr>\n",
              "    <tr>\n",
              "      <th>260</th>\n",
              "      <td>Star Wars: Episode IV - A New Hope (1977)</td>\n",
              "      <td>Action|Adventure|Sci-Fi</td>\n",
              "      <td>119.0</td>\n",
              "    </tr>\n",
              "    <tr>\n",
              "      <th>110</th>\n",
              "      <td>Braveheart (1995)</td>\n",
              "      <td>Action|Drama|War</td>\n",
              "      <td>110.0</td>\n",
              "    </tr>\n",
              "    <tr>\n",
              "      <th>480</th>\n",
              "      <td>Jurassic Park (1993)</td>\n",
              "      <td>Action|Adventure|Sci-Fi|Thriller</td>\n",
              "      <td>109.0</td>\n",
              "    </tr>\n",
              "    <tr>\n",
              "      <th>1</th>\n",
              "      <td>Toy Story (1995)</td>\n",
              "      <td>Adventure|Animation|Children|Comedy|Fantasy</td>\n",
              "      <td>107.0</td>\n",
              "    </tr>\n",
              "    <tr>\n",
              "      <th>1196</th>\n",
              "      <td>Star Wars: Episode V - The Empire Strikes Back...</td>\n",
              "      <td>Action|Adventure|Sci-Fi</td>\n",
              "      <td>105.0</td>\n",
              "    </tr>\n",
              "  </tbody>\n",
              "</table>\n",
              "</div>"
            ],
            "text/plain": [
              "                                                    titulo  ... total_de_votos\n",
              "filmeId                                                     ...               \n",
              "356                                    Forrest Gump (1994)  ...          153.0\n",
              "296                                    Pulp Fiction (1994)  ...          151.0\n",
              "318                       Shawshank Redemption, The (1994)  ...          147.0\n",
              "2571                                    Matrix, The (1999)  ...          134.0\n",
              "593                       Silence of the Lambs, The (1991)  ...          131.0\n",
              "260              Star Wars: Episode IV - A New Hope (1977)  ...          119.0\n",
              "110                                      Braveheart (1995)  ...          110.0\n",
              "480                                   Jurassic Park (1993)  ...          109.0\n",
              "1                                         Toy Story (1995)  ...          107.0\n",
              "1196     Star Wars: Episode V - The Empire Strikes Back...  ...          105.0\n",
              "\n",
              "[10 rows x 3 columns]"
            ]
          },
          "metadata": {
            "tags": []
          },
          "execution_count": 6
        }
      ]
    },
    {
      "cell_type": "code",
      "metadata": {
        "colab": {
          "base_uri": "https://localhost:8080/"
        },
        "id": "Dh-uN8aMKqL5",
        "outputId": "a81475c5-58eb-4503-edcb-8edd5cdec703"
      },
      "source": [
        "notas_medias = notas.groupby(\"filmeId\").mean()[\"nota\"]\n",
        "notas_medias.head()"
      ],
      "execution_count": 7,
      "outputs": [
        {
          "output_type": "execute_result",
          "data": {
            "text/plain": [
              "filmeId\n",
              "1    3.897196\n",
              "2    3.366667\n",
              "3    3.538462\n",
              "4    2.600000\n",
              "5    3.480000\n",
              "Name: nota, dtype: float64"
            ]
          },
          "metadata": {
            "tags": []
          },
          "execution_count": 7
        }
      ]
    },
    {
      "cell_type": "code",
      "metadata": {
        "colab": {
          "base_uri": "https://localhost:8080/",
          "height": 390
        },
        "id": "0yOXSasjLM-A",
        "outputId": "869ef0ce-0b86-4923-aad1-6982b35c3889"
      },
      "source": [
        "filmes[\"nota_media\"] = notas_medias\n",
        "filmes.sort_values(\"total_de_votos\", ascending = False).head(10)"
      ],
      "execution_count": 8,
      "outputs": [
        {
          "output_type": "execute_result",
          "data": {
            "text/html": [
              "<div>\n",
              "<style scoped>\n",
              "    .dataframe tbody tr th:only-of-type {\n",
              "        vertical-align: middle;\n",
              "    }\n",
              "\n",
              "    .dataframe tbody tr th {\n",
              "        vertical-align: top;\n",
              "    }\n",
              "\n",
              "    .dataframe thead th {\n",
              "        text-align: right;\n",
              "    }\n",
              "</style>\n",
              "<table border=\"1\" class=\"dataframe\">\n",
              "  <thead>\n",
              "    <tr style=\"text-align: right;\">\n",
              "      <th></th>\n",
              "      <th>titulo</th>\n",
              "      <th>generos</th>\n",
              "      <th>total_de_votos</th>\n",
              "      <th>nota_media</th>\n",
              "    </tr>\n",
              "    <tr>\n",
              "      <th>filmeId</th>\n",
              "      <th></th>\n",
              "      <th></th>\n",
              "      <th></th>\n",
              "      <th></th>\n",
              "    </tr>\n",
              "  </thead>\n",
              "  <tbody>\n",
              "    <tr>\n",
              "      <th>356</th>\n",
              "      <td>Forrest Gump (1994)</td>\n",
              "      <td>Comedy|Drama|Romance|War</td>\n",
              "      <td>153.0</td>\n",
              "      <td>4.104575</td>\n",
              "    </tr>\n",
              "    <tr>\n",
              "      <th>296</th>\n",
              "      <td>Pulp Fiction (1994)</td>\n",
              "      <td>Comedy|Crime|Drama|Thriller</td>\n",
              "      <td>151.0</td>\n",
              "      <td>4.029801</td>\n",
              "    </tr>\n",
              "    <tr>\n",
              "      <th>318</th>\n",
              "      <td>Shawshank Redemption, The (1994)</td>\n",
              "      <td>Crime|Drama</td>\n",
              "      <td>147.0</td>\n",
              "      <td>4.411565</td>\n",
              "    </tr>\n",
              "    <tr>\n",
              "      <th>2571</th>\n",
              "      <td>Matrix, The (1999)</td>\n",
              "      <td>Action|Sci-Fi|Thriller</td>\n",
              "      <td>134.0</td>\n",
              "      <td>4.152985</td>\n",
              "    </tr>\n",
              "    <tr>\n",
              "      <th>593</th>\n",
              "      <td>Silence of the Lambs, The (1991)</td>\n",
              "      <td>Crime|Horror|Thriller</td>\n",
              "      <td>131.0</td>\n",
              "      <td>4.148855</td>\n",
              "    </tr>\n",
              "    <tr>\n",
              "      <th>260</th>\n",
              "      <td>Star Wars: Episode IV - A New Hope (1977)</td>\n",
              "      <td>Action|Adventure|Sci-Fi</td>\n",
              "      <td>119.0</td>\n",
              "      <td>4.256303</td>\n",
              "    </tr>\n",
              "    <tr>\n",
              "      <th>110</th>\n",
              "      <td>Braveheart (1995)</td>\n",
              "      <td>Action|Drama|War</td>\n",
              "      <td>110.0</td>\n",
              "      <td>4.004545</td>\n",
              "    </tr>\n",
              "    <tr>\n",
              "      <th>480</th>\n",
              "      <td>Jurassic Park (1993)</td>\n",
              "      <td>Action|Adventure|Sci-Fi|Thriller</td>\n",
              "      <td>109.0</td>\n",
              "      <td>3.761468</td>\n",
              "    </tr>\n",
              "    <tr>\n",
              "      <th>1</th>\n",
              "      <td>Toy Story (1995)</td>\n",
              "      <td>Adventure|Animation|Children|Comedy|Fantasy</td>\n",
              "      <td>107.0</td>\n",
              "      <td>3.897196</td>\n",
              "    </tr>\n",
              "    <tr>\n",
              "      <th>1196</th>\n",
              "      <td>Star Wars: Episode V - The Empire Strikes Back...</td>\n",
              "      <td>Action|Adventure|Sci-Fi</td>\n",
              "      <td>105.0</td>\n",
              "      <td>4.252381</td>\n",
              "    </tr>\n",
              "  </tbody>\n",
              "</table>\n",
              "</div>"
            ],
            "text/plain": [
              "                                                    titulo  ... nota_media\n",
              "filmeId                                                     ...           \n",
              "356                                    Forrest Gump (1994)  ...   4.104575\n",
              "296                                    Pulp Fiction (1994)  ...   4.029801\n",
              "318                       Shawshank Redemption, The (1994)  ...   4.411565\n",
              "2571                                    Matrix, The (1999)  ...   4.152985\n",
              "593                       Silence of the Lambs, The (1991)  ...   4.148855\n",
              "260              Star Wars: Episode IV - A New Hope (1977)  ...   4.256303\n",
              "110                                      Braveheart (1995)  ...   4.004545\n",
              "480                                   Jurassic Park (1993)  ...   3.761468\n",
              "1                                         Toy Story (1995)  ...   3.897196\n",
              "1196     Star Wars: Episode V - The Empire Strikes Back...  ...   4.252381\n",
              "\n",
              "[10 rows x 4 columns]"
            ]
          },
          "metadata": {
            "tags": []
          },
          "execution_count": 8
        }
      ]
    },
    {
      "cell_type": "markdown",
      "metadata": {
        "id": "JdvirOOILyjj"
      },
      "source": [
        "# Uma segunda heurística: nota média e filtrando votos\n",
        "\n"
      ]
    },
    {
      "cell_type": "code",
      "metadata": {
        "colab": {
          "base_uri": "https://localhost:8080/",
          "height": 390
        },
        "id": "tHq5NNvyLkRK",
        "outputId": "39c20d03-0adf-4ed1-e8a2-1c1fdf6f20b3"
      },
      "source": [
        "filmes.sort_values(\"nota_media\", ascending = False).head(10)"
      ],
      "execution_count": 9,
      "outputs": [
        {
          "output_type": "execute_result",
          "data": {
            "text/html": [
              "<div>\n",
              "<style scoped>\n",
              "    .dataframe tbody tr th:only-of-type {\n",
              "        vertical-align: middle;\n",
              "    }\n",
              "\n",
              "    .dataframe tbody tr th {\n",
              "        vertical-align: top;\n",
              "    }\n",
              "\n",
              "    .dataframe thead th {\n",
              "        text-align: right;\n",
              "    }\n",
              "</style>\n",
              "<table border=\"1\" class=\"dataframe\">\n",
              "  <thead>\n",
              "    <tr style=\"text-align: right;\">\n",
              "      <th></th>\n",
              "      <th>titulo</th>\n",
              "      <th>generos</th>\n",
              "      <th>total_de_votos</th>\n",
              "      <th>nota_media</th>\n",
              "    </tr>\n",
              "    <tr>\n",
              "      <th>filmeId</th>\n",
              "      <th></th>\n",
              "      <th></th>\n",
              "      <th></th>\n",
              "      <th></th>\n",
              "    </tr>\n",
              "  </thead>\n",
              "  <tbody>\n",
              "    <tr>\n",
              "      <th>86721</th>\n",
              "      <td>Idiots and Angels (2008)</td>\n",
              "      <td>Animation|Drama|Fantasy</td>\n",
              "      <td>1.0</td>\n",
              "      <td>5.0</td>\n",
              "    </tr>\n",
              "    <tr>\n",
              "      <th>2204</th>\n",
              "      <td>Saboteur (1942)</td>\n",
              "      <td>Mystery|Thriller</td>\n",
              "      <td>1.0</td>\n",
              "      <td>5.0</td>\n",
              "    </tr>\n",
              "    <tr>\n",
              "      <th>93022</th>\n",
              "      <td>Miss Nobody (2010)</td>\n",
              "      <td>Comedy|Crime</td>\n",
              "      <td>1.0</td>\n",
              "      <td>5.0</td>\n",
              "    </tr>\n",
              "    <tr>\n",
              "      <th>93008</th>\n",
              "      <td>Very Potter Sequel, A (2010)</td>\n",
              "      <td>Comedy|Musical</td>\n",
              "      <td>1.0</td>\n",
              "      <td>5.0</td>\n",
              "    </tr>\n",
              "    <tr>\n",
              "      <th>120478</th>\n",
              "      <td>The Salt of the Earth (2014)</td>\n",
              "      <td>Documentary</td>\n",
              "      <td>1.0</td>\n",
              "      <td>5.0</td>\n",
              "    </tr>\n",
              "    <tr>\n",
              "      <th>7008</th>\n",
              "      <td>Last Tango in Paris (Ultimo tango a Parigi) (1...</td>\n",
              "      <td>Drama|Romance</td>\n",
              "      <td>2.0</td>\n",
              "      <td>5.0</td>\n",
              "    </tr>\n",
              "    <tr>\n",
              "      <th>92643</th>\n",
              "      <td>Monsieur Lazhar (2011)</td>\n",
              "      <td>Children|Comedy|Drama</td>\n",
              "      <td>1.0</td>\n",
              "      <td>5.0</td>\n",
              "    </tr>\n",
              "    <tr>\n",
              "      <th>92494</th>\n",
              "      <td>Dylan Moran: Monster (2004)</td>\n",
              "      <td>Comedy|Documentary</td>\n",
              "      <td>1.0</td>\n",
              "      <td>5.0</td>\n",
              "    </tr>\n",
              "    <tr>\n",
              "      <th>31364</th>\n",
              "      <td>Memories of Murder (Salinui chueok) (2003)</td>\n",
              "      <td>Crime|Drama|Mystery|Thriller</td>\n",
              "      <td>1.0</td>\n",
              "      <td>5.0</td>\n",
              "    </tr>\n",
              "    <tr>\n",
              "      <th>165959</th>\n",
              "      <td>Alesha Popovich and Tugarin the Dragon (2004)</td>\n",
              "      <td>Animation|Comedy|Drama</td>\n",
              "      <td>1.0</td>\n",
              "      <td>5.0</td>\n",
              "    </tr>\n",
              "  </tbody>\n",
              "</table>\n",
              "</div>"
            ],
            "text/plain": [
              "                                                    titulo  ... nota_media\n",
              "filmeId                                                     ...           \n",
              "86721                             Idiots and Angels (2008)  ...        5.0\n",
              "2204                                       Saboteur (1942)  ...        5.0\n",
              "93022                                   Miss Nobody (2010)  ...        5.0\n",
              "93008                         Very Potter Sequel, A (2010)  ...        5.0\n",
              "120478                        The Salt of the Earth (2014)  ...        5.0\n",
              "7008     Last Tango in Paris (Ultimo tango a Parigi) (1...  ...        5.0\n",
              "92643                               Monsieur Lazhar (2011)  ...        5.0\n",
              "92494                          Dylan Moran: Monster (2004)  ...        5.0\n",
              "31364           Memories of Murder (Salinui chueok) (2003)  ...        5.0\n",
              "165959       Alesha Popovich and Tugarin the Dragon (2004)  ...        5.0\n",
              "\n",
              "[10 rows x 4 columns]"
            ]
          },
          "metadata": {
            "tags": []
          },
          "execution_count": 9
        }
      ]
    },
    {
      "cell_type": "code",
      "metadata": {
        "colab": {
          "base_uri": "https://localhost:8080/",
          "height": 390
        },
        "id": "fGwb144nL3rr",
        "outputId": "075c7771-9481-47c5-dbff-12948fa0914b"
      },
      "source": [
        "filmes.query(\"total_de_votos >= 10\").sort_values(\"nota_media\", ascending = False).head(10)"
      ],
      "execution_count": 10,
      "outputs": [
        {
          "output_type": "execute_result",
          "data": {
            "text/html": [
              "<div>\n",
              "<style scoped>\n",
              "    .dataframe tbody tr th:only-of-type {\n",
              "        vertical-align: middle;\n",
              "    }\n",
              "\n",
              "    .dataframe tbody tr th {\n",
              "        vertical-align: top;\n",
              "    }\n",
              "\n",
              "    .dataframe thead th {\n",
              "        text-align: right;\n",
              "    }\n",
              "</style>\n",
              "<table border=\"1\" class=\"dataframe\">\n",
              "  <thead>\n",
              "    <tr style=\"text-align: right;\">\n",
              "      <th></th>\n",
              "      <th>titulo</th>\n",
              "      <th>generos</th>\n",
              "      <th>total_de_votos</th>\n",
              "      <th>nota_media</th>\n",
              "    </tr>\n",
              "    <tr>\n",
              "      <th>filmeId</th>\n",
              "      <th></th>\n",
              "      <th></th>\n",
              "      <th></th>\n",
              "      <th></th>\n",
              "    </tr>\n",
              "  </thead>\n",
              "  <tbody>\n",
              "    <tr>\n",
              "      <th>1212</th>\n",
              "      <td>Third Man, The (1949)</td>\n",
              "      <td>Film-Noir|Mystery|Thriller</td>\n",
              "      <td>12.0</td>\n",
              "      <td>4.666667</td>\n",
              "    </tr>\n",
              "    <tr>\n",
              "      <th>898</th>\n",
              "      <td>Philadelphia Story, The (1940)</td>\n",
              "      <td>Comedy|Drama|Romance</td>\n",
              "      <td>13.0</td>\n",
              "      <td>4.576923</td>\n",
              "    </tr>\n",
              "    <tr>\n",
              "      <th>922</th>\n",
              "      <td>Sunset Blvd. (a.k.a. Sunset Boulevard) (1950)</td>\n",
              "      <td>Drama|Film-Noir|Romance</td>\n",
              "      <td>14.0</td>\n",
              "      <td>4.464286</td>\n",
              "    </tr>\n",
              "    <tr>\n",
              "      <th>926</th>\n",
              "      <td>All About Eve (1950)</td>\n",
              "      <td>Drama</td>\n",
              "      <td>10.0</td>\n",
              "      <td>4.450000</td>\n",
              "    </tr>\n",
              "    <tr>\n",
              "      <th>1250</th>\n",
              "      <td>Bridge on the River Kwai, The (1957)</td>\n",
              "      <td>Adventure|Drama|War</td>\n",
              "      <td>19.0</td>\n",
              "      <td>4.421053</td>\n",
              "    </tr>\n",
              "    <tr>\n",
              "      <th>318</th>\n",
              "      <td>Shawshank Redemption, The (1994)</td>\n",
              "      <td>Crime|Drama</td>\n",
              "      <td>147.0</td>\n",
              "      <td>4.411565</td>\n",
              "    </tr>\n",
              "    <tr>\n",
              "      <th>3275</th>\n",
              "      <td>Boondock Saints, The (2000)</td>\n",
              "      <td>Action|Crime|Drama|Thriller</td>\n",
              "      <td>22.0</td>\n",
              "      <td>4.409091</td>\n",
              "    </tr>\n",
              "    <tr>\n",
              "      <th>1209</th>\n",
              "      <td>Once Upon a Time in the West (C'era una volta ...</td>\n",
              "      <td>Action|Drama|Western</td>\n",
              "      <td>11.0</td>\n",
              "      <td>4.363636</td>\n",
              "    </tr>\n",
              "    <tr>\n",
              "      <th>475</th>\n",
              "      <td>In the Name of the Father (1993)</td>\n",
              "      <td>Drama</td>\n",
              "      <td>14.0</td>\n",
              "      <td>4.357143</td>\n",
              "    </tr>\n",
              "    <tr>\n",
              "      <th>58559</th>\n",
              "      <td>Dark Knight, The (2008)</td>\n",
              "      <td>Action|Crime|Drama|IMAX</td>\n",
              "      <td>67.0</td>\n",
              "      <td>4.350746</td>\n",
              "    </tr>\n",
              "  </tbody>\n",
              "</table>\n",
              "</div>"
            ],
            "text/plain": [
              "                                                    titulo  ... nota_media\n",
              "filmeId                                                     ...           \n",
              "1212                                 Third Man, The (1949)  ...   4.666667\n",
              "898                         Philadelphia Story, The (1940)  ...   4.576923\n",
              "922          Sunset Blvd. (a.k.a. Sunset Boulevard) (1950)  ...   4.464286\n",
              "926                                   All About Eve (1950)  ...   4.450000\n",
              "1250                  Bridge on the River Kwai, The (1957)  ...   4.421053\n",
              "318                       Shawshank Redemption, The (1994)  ...   4.411565\n",
              "3275                           Boondock Saints, The (2000)  ...   4.409091\n",
              "1209     Once Upon a Time in the West (C'era una volta ...  ...   4.363636\n",
              "475                       In the Name of the Father (1993)  ...   4.357143\n",
              "58559                              Dark Knight, The (2008)  ...   4.350746\n",
              "\n",
              "[10 rows x 4 columns]"
            ]
          },
          "metadata": {
            "tags": []
          },
          "execution_count": 10
        }
      ]
    },
    {
      "cell_type": "code",
      "metadata": {
        "colab": {
          "base_uri": "https://localhost:8080/",
          "height": 390
        },
        "id": "4okYonFYMR5C",
        "outputId": "d0a3b177-a246-4d71-cee9-00780a924b93"
      },
      "source": [
        "filmes_com_mais_de_50_votos = filmes.query(\"total_de_votos >= 50\")\n",
        "filmes_com_mais_de_50_votos.sort_values(\"nota_media\", ascending = False).head(10)"
      ],
      "execution_count": 11,
      "outputs": [
        {
          "output_type": "execute_result",
          "data": {
            "text/html": [
              "<div>\n",
              "<style scoped>\n",
              "    .dataframe tbody tr th:only-of-type {\n",
              "        vertical-align: middle;\n",
              "    }\n",
              "\n",
              "    .dataframe tbody tr th {\n",
              "        vertical-align: top;\n",
              "    }\n",
              "\n",
              "    .dataframe thead th {\n",
              "        text-align: right;\n",
              "    }\n",
              "</style>\n",
              "<table border=\"1\" class=\"dataframe\">\n",
              "  <thead>\n",
              "    <tr style=\"text-align: right;\">\n",
              "      <th></th>\n",
              "      <th>titulo</th>\n",
              "      <th>generos</th>\n",
              "      <th>total_de_votos</th>\n",
              "      <th>nota_media</th>\n",
              "    </tr>\n",
              "    <tr>\n",
              "      <th>filmeId</th>\n",
              "      <th></th>\n",
              "      <th></th>\n",
              "      <th></th>\n",
              "      <th></th>\n",
              "    </tr>\n",
              "  </thead>\n",
              "  <tbody>\n",
              "    <tr>\n",
              "      <th>318</th>\n",
              "      <td>Shawshank Redemption, The (1994)</td>\n",
              "      <td>Crime|Drama</td>\n",
              "      <td>147.0</td>\n",
              "      <td>4.411565</td>\n",
              "    </tr>\n",
              "    <tr>\n",
              "      <th>58559</th>\n",
              "      <td>Dark Knight, The (2008)</td>\n",
              "      <td>Action|Crime|Drama|IMAX</td>\n",
              "      <td>67.0</td>\n",
              "      <td>4.350746</td>\n",
              "    </tr>\n",
              "    <tr>\n",
              "      <th>1197</th>\n",
              "      <td>Princess Bride, The (1987)</td>\n",
              "      <td>Action|Adventure|Comedy|Fantasy|Romance</td>\n",
              "      <td>70.0</td>\n",
              "      <td>4.307143</td>\n",
              "    </tr>\n",
              "    <tr>\n",
              "      <th>260</th>\n",
              "      <td>Star Wars: Episode IV - A New Hope (1977)</td>\n",
              "      <td>Action|Adventure|Sci-Fi</td>\n",
              "      <td>119.0</td>\n",
              "      <td>4.256303</td>\n",
              "    </tr>\n",
              "    <tr>\n",
              "      <th>1196</th>\n",
              "      <td>Star Wars: Episode V - The Empire Strikes Back...</td>\n",
              "      <td>Action|Adventure|Sci-Fi</td>\n",
              "      <td>105.0</td>\n",
              "      <td>4.252381</td>\n",
              "    </tr>\n",
              "    <tr>\n",
              "      <th>50</th>\n",
              "      <td>Usual Suspects, The (1995)</td>\n",
              "      <td>Crime|Mystery|Thriller</td>\n",
              "      <td>94.0</td>\n",
              "      <td>4.250000</td>\n",
              "    </tr>\n",
              "    <tr>\n",
              "      <th>1198</th>\n",
              "      <td>Raiders of the Lost Ark (Indiana Jones and the...</td>\n",
              "      <td>Action|Adventure</td>\n",
              "      <td>99.0</td>\n",
              "      <td>4.227273</td>\n",
              "    </tr>\n",
              "    <tr>\n",
              "      <th>1193</th>\n",
              "      <td>One Flew Over the Cuckoo's Nest (1975)</td>\n",
              "      <td>Drama</td>\n",
              "      <td>66.0</td>\n",
              "      <td>4.227273</td>\n",
              "    </tr>\n",
              "    <tr>\n",
              "      <th>527</th>\n",
              "      <td>Schindler's List (1993)</td>\n",
              "      <td>Drama|War</td>\n",
              "      <td>96.0</td>\n",
              "      <td>4.208333</td>\n",
              "    </tr>\n",
              "    <tr>\n",
              "      <th>1089</th>\n",
              "      <td>Reservoir Dogs (1992)</td>\n",
              "      <td>Crime|Mystery|Thriller</td>\n",
              "      <td>58.0</td>\n",
              "      <td>4.206897</td>\n",
              "    </tr>\n",
              "  </tbody>\n",
              "</table>\n",
              "</div>"
            ],
            "text/plain": [
              "                                                    titulo  ... nota_media\n",
              "filmeId                                                     ...           \n",
              "318                       Shawshank Redemption, The (1994)  ...   4.411565\n",
              "58559                              Dark Knight, The (2008)  ...   4.350746\n",
              "1197                            Princess Bride, The (1987)  ...   4.307143\n",
              "260              Star Wars: Episode IV - A New Hope (1977)  ...   4.256303\n",
              "1196     Star Wars: Episode V - The Empire Strikes Back...  ...   4.252381\n",
              "50                              Usual Suspects, The (1995)  ...   4.250000\n",
              "1198     Raiders of the Lost Ark (Indiana Jones and the...  ...   4.227273\n",
              "1193                One Flew Over the Cuckoo's Nest (1975)  ...   4.227273\n",
              "527                                Schindler's List (1993)  ...   4.208333\n",
              "1089                                 Reservoir Dogs (1992)  ...   4.206897\n",
              "\n",
              "[10 rows x 4 columns]"
            ]
          },
          "metadata": {
            "tags": []
          },
          "execution_count": 11
        }
      ]
    },
    {
      "cell_type": "code",
      "metadata": {
        "colab": {
          "base_uri": "https://localhost:8080/",
          "height": 297
        },
        "id": "VOo0olrCMlyo",
        "outputId": "d4f268be-8ff2-4304-f37b-501b68bf2344"
      },
      "source": [
        "eu_assisti = [1, 21, 19, 10, 11, 7, 2]\n",
        "filmes.loc[eu_assisti]"
      ],
      "execution_count": 12,
      "outputs": [
        {
          "output_type": "execute_result",
          "data": {
            "text/html": [
              "<div>\n",
              "<style scoped>\n",
              "    .dataframe tbody tr th:only-of-type {\n",
              "        vertical-align: middle;\n",
              "    }\n",
              "\n",
              "    .dataframe tbody tr th {\n",
              "        vertical-align: top;\n",
              "    }\n",
              "\n",
              "    .dataframe thead th {\n",
              "        text-align: right;\n",
              "    }\n",
              "</style>\n",
              "<table border=\"1\" class=\"dataframe\">\n",
              "  <thead>\n",
              "    <tr style=\"text-align: right;\">\n",
              "      <th></th>\n",
              "      <th>titulo</th>\n",
              "      <th>generos</th>\n",
              "      <th>total_de_votos</th>\n",
              "      <th>nota_media</th>\n",
              "    </tr>\n",
              "    <tr>\n",
              "      <th>filmeId</th>\n",
              "      <th></th>\n",
              "      <th></th>\n",
              "      <th></th>\n",
              "      <th></th>\n",
              "    </tr>\n",
              "  </thead>\n",
              "  <tbody>\n",
              "    <tr>\n",
              "      <th>1</th>\n",
              "      <td>Toy Story (1995)</td>\n",
              "      <td>Adventure|Animation|Children|Comedy|Fantasy</td>\n",
              "      <td>107.0</td>\n",
              "      <td>3.897196</td>\n",
              "    </tr>\n",
              "    <tr>\n",
              "      <th>21</th>\n",
              "      <td>Get Shorty (1995)</td>\n",
              "      <td>Comedy|Crime|Thriller</td>\n",
              "      <td>43.0</td>\n",
              "      <td>3.604651</td>\n",
              "    </tr>\n",
              "    <tr>\n",
              "      <th>19</th>\n",
              "      <td>Ace Ventura: When Nature Calls (1995)</td>\n",
              "      <td>Comedy</td>\n",
              "      <td>39.0</td>\n",
              "      <td>2.756410</td>\n",
              "    </tr>\n",
              "    <tr>\n",
              "      <th>10</th>\n",
              "      <td>GoldenEye (1995)</td>\n",
              "      <td>Action|Adventure|Thriller</td>\n",
              "      <td>59.0</td>\n",
              "      <td>3.516949</td>\n",
              "    </tr>\n",
              "    <tr>\n",
              "      <th>11</th>\n",
              "      <td>American President, The (1995)</td>\n",
              "      <td>Comedy|Drama|Romance</td>\n",
              "      <td>32.0</td>\n",
              "      <td>3.906250</td>\n",
              "    </tr>\n",
              "    <tr>\n",
              "      <th>7</th>\n",
              "      <td>Sabrina (1995)</td>\n",
              "      <td>Comedy|Romance</td>\n",
              "      <td>31.0</td>\n",
              "      <td>3.274194</td>\n",
              "    </tr>\n",
              "    <tr>\n",
              "      <th>2</th>\n",
              "      <td>Jumanji (1995)</td>\n",
              "      <td>Adventure|Children|Fantasy</td>\n",
              "      <td>45.0</td>\n",
              "      <td>3.366667</td>\n",
              "    </tr>\n",
              "  </tbody>\n",
              "</table>\n",
              "</div>"
            ],
            "text/plain": [
              "                                        titulo  ... nota_media\n",
              "filmeId                                         ...           \n",
              "1                             Toy Story (1995)  ...   3.897196\n",
              "21                           Get Shorty (1995)  ...   3.604651\n",
              "19       Ace Ventura: When Nature Calls (1995)  ...   2.756410\n",
              "10                            GoldenEye (1995)  ...   3.516949\n",
              "11              American President, The (1995)  ...   3.906250\n",
              "7                               Sabrina (1995)  ...   3.274194\n",
              "2                               Jumanji (1995)  ...   3.366667\n",
              "\n",
              "[7 rows x 4 columns]"
            ]
          },
          "metadata": {
            "tags": []
          },
          "execution_count": 12
        }
      ]
    },
    {
      "cell_type": "code",
      "metadata": {
        "colab": {
          "base_uri": "https://localhost:8080/",
          "height": 111
        },
        "id": "-K3I-akqOEPV",
        "outputId": "cc83a9b7-f305-48ad-96f3-1e8223b1b6ca"
      },
      "source": [
        "aventura_infantil_e_fantasia = filmes_com_mais_de_50_votos.query(\"generos=='Adventure|Children|Fantasy'\")\n",
        "aventura_infantil_e_fantasia.drop(eu_assisti, errors = 'ignore').sort_values(\"nota_media\", ascending = False).head(10)"
      ],
      "execution_count": 13,
      "outputs": [
        {
          "output_type": "execute_result",
          "data": {
            "text/html": [
              "<div>\n",
              "<style scoped>\n",
              "    .dataframe tbody tr th:only-of-type {\n",
              "        vertical-align: middle;\n",
              "    }\n",
              "\n",
              "    .dataframe tbody tr th {\n",
              "        vertical-align: top;\n",
              "    }\n",
              "\n",
              "    .dataframe thead th {\n",
              "        text-align: right;\n",
              "    }\n",
              "</style>\n",
              "<table border=\"1\" class=\"dataframe\">\n",
              "  <thead>\n",
              "    <tr style=\"text-align: right;\">\n",
              "      <th></th>\n",
              "      <th>titulo</th>\n",
              "      <th>generos</th>\n",
              "      <th>total_de_votos</th>\n",
              "      <th>nota_media</th>\n",
              "    </tr>\n",
              "    <tr>\n",
              "      <th>filmeId</th>\n",
              "      <th></th>\n",
              "      <th></th>\n",
              "      <th></th>\n",
              "      <th></th>\n",
              "    </tr>\n",
              "  </thead>\n",
              "  <tbody>\n",
              "    <tr>\n",
              "      <th>4896</th>\n",
              "      <td>Harry Potter and the Sorcerer's Stone (a.k.a. ...</td>\n",
              "      <td>Adventure|Children|Fantasy</td>\n",
              "      <td>52.0</td>\n",
              "      <td>3.846154</td>\n",
              "    </tr>\n",
              "  </tbody>\n",
              "</table>\n",
              "</div>"
            ],
            "text/plain": [
              "                                                    titulo  ... nota_media\n",
              "filmeId                                                     ...           \n",
              "4896     Harry Potter and the Sorcerer's Stone (a.k.a. ...  ...   3.846154\n",
              "\n",
              "[1 rows x 4 columns]"
            ]
          },
          "metadata": {
            "tags": []
          },
          "execution_count": 13
        }
      ]
    },
    {
      "cell_type": "code",
      "metadata": {
        "id": "7-bhydkYOWuG"
      },
      "source": [
        "# Collaborative filtering X Content based filtering"
      ],
      "execution_count": 14,
      "outputs": []
    },
    {
      "cell_type": "markdown",
      "metadata": {
        "id": "1yvV-Kmm5K1x"
      },
      "source": [
        "# Procurar usuários \"similares\""
      ]
    },
    {
      "cell_type": "markdown",
      "metadata": {
        "id": "UTOG3w0q5SeP"
      },
      "source": [
        "- João deu nota 4 no filme toy story\n",
        "- maria deu nota 5 no filme toy story\n",
        "- paulo deu nota 3 no filme toy story\n",
        "- joana deu nota 3.5 no filme toy story\n",
        "\n",
        "x - y => distância"
      ]
    },
    {
      "cell_type": "code",
      "metadata": {
        "colab": {
          "base_uri": "https://localhost:8080/",
          "height": 298
        },
        "id": "emI1NLWQ5zSo",
        "outputId": "a0fa39c5-f328-48d1-b837-fbd4556a3f04"
      },
      "source": [
        "# joao = [4, 4.5]\n",
        "# maria = [5, 5]\n",
        "\n",
        "import matplotlib.pyplot as plt\n",
        "\n",
        "plt.plot(4, 4.5, \"go\")\n",
        "plt.plot(5, 5, \"yo\")\n",
        "plt.legend([\"João\", \"Maria\"])\n",
        "plt.title(\"Calcular a distância entre dois usuários\")\n",
        "\n",
        "plt.plot([4, 5],[4.5, 4.5], color=\"b\", linestyle=\"-\")\n",
        "plt.plot([4, 5],[4.5, 5], color=\"b\", linestyle=\"-\")\n",
        "plt.plot([5, 5],[4.5, 5], color=\"b\", linestyle=\"-\")"
      ],
      "execution_count": 15,
      "outputs": [
        {
          "output_type": "execute_result",
          "data": {
            "text/plain": [
              "[<matplotlib.lines.Line2D at 0x7fc1ae7d3690>]"
            ]
          },
          "metadata": {
            "tags": []
          },
          "execution_count": 15
        },
        {
          "output_type": "display_data",
          "data": {
            "image/png": "[encoded data removed]",
            "text/plain": [
              "<Figure size 432x288 with 1 Axes>"
            ]
          },
          "metadata": {
            "tags": [],
            "needs_background": "light"
          }
        }
      ]
    },
    {
      "cell_type": "code",
      "metadata": {
        "colab": {
          "base_uri": "https://localhost:8080/"
        },
        "id": "ojpQu9aq6BaV",
        "outputId": "9b756134-85c8-421e-db06-4025cb905a8e"
      },
      "source": [
        "import numpy as np\n",
        "\n",
        "joao = np.array([4, 4.5])\n",
        "maria = np.array([5, 5])\n",
        "\n",
        "joao - maria"
      ],
      "execution_count": 16,
      "outputs": [
        {
          "output_type": "execute_result",
          "data": {
            "text/plain": [
              "array([-1. , -0.5])"
            ]
          },
          "metadata": {
            "tags": []
          },
          "execution_count": 16
        }
      ]
    },
    {
      "cell_type": "code",
      "metadata": {
        "colab": {
          "base_uri": "https://localhost:8080/"
        },
        "id": "huD7PvE06-31",
        "outputId": "8fa4ff0e-3a7d-4db8-fc88-e549f31cb22d"
      },
      "source": [
        "from math import sqrt\n",
        "\n",
        "def pitagoras(a, b):\n",
        "  (delta_x, delta_y) = a - b\n",
        "  return sqrt(delta_x * delta_x + delta_y * delta_y)\n",
        "\n",
        "pitagoras(joao, maria)"
      ],
      "execution_count": 17,
      "outputs": [
        {
          "output_type": "execute_result",
          "data": {
            "text/plain": [
              "1.118033988749895"
            ]
          },
          "metadata": {
            "tags": []
          },
          "execution_count": 17
        }
      ]
    },
    {
      "cell_type": "code",
      "metadata": {
        "colab": {
          "base_uri": "https://localhost:8080/"
        },
        "id": "fctGc86t7cmJ",
        "outputId": "55b123dd-0626-4bca-8e37-1b1365951dfd"
      },
      "source": [
        "def pitagoras(a, b):\n",
        "  return np.linalg.norm(a - b)\n",
        "  \n",
        "pitagoras(joao, maria)"
      ],
      "execution_count": 18,
      "outputs": [
        {
          "output_type": "execute_result",
          "data": {
            "text/plain": [
              "1.118033988749895"
            ]
          },
          "metadata": {
            "tags": []
          },
          "execution_count": 18
        }
      ]
    },
    {
      "cell_type": "code",
      "metadata": {
        "colab": {
          "base_uri": "https://localhost:8080/",
          "height": 298
        },
        "id": "sfJCTQ837lR2",
        "outputId": "6a4625c4-c757-4512-fa50-3acef1f01340"
      },
      "source": [
        "import matplotlib.pyplot as plt\n",
        "\n",
        "plt.plot(4, 4.5, \"go\")\n",
        "plt.plot(5, 5, \"yo\")\n",
        "plt.plot(3.5, 4.5, \"bo\")\n",
        "plt.legend([\"João\", \"Maria\", \"Joaquina\"])\n",
        "plt.title(\"Calcular a distância entre usuários\")"
      ],
      "execution_count": 19,
      "outputs": [
        {
          "output_type": "execute_result",
          "data": {
            "text/plain": [
              "Text(0.5, 1.0, 'Calcular a distância entre usuários')"
            ]
          },
          "metadata": {
            "tags": []
          },
          "execution_count": 19
        },
        {
          "output_type": "display_data",
          "data": {
            "image/png": "[encoded data removed]",
            "text/plain": [
              "<Figure size 432x288 with 1 Axes>"
            ]
          },
          "metadata": {
            "tags": [],
            "needs_background": "light"
          }
        }
      ]
    },
    {
      "cell_type": "code",
      "metadata": {
        "colab": {
          "base_uri": "https://localhost:8080/"
        },
        "id": "mRfrpy8E78xx",
        "outputId": "c518000e-b04d-458c-d888-6326f173ef92"
      },
      "source": [
        "joaquina = np.array([3.5, 4.5])\n",
        "print(pitagoras(joao, maria))\n",
        "print(pitagoras(joao, joaquina))"
      ],
      "execution_count": 20,
      "outputs": [
        {
          "output_type": "stream",
          "text": [
            "1.118033988749895\n",
            "0.5\n"
          ],
          "name": "stdout"
        }
      ]
    },
    {
      "cell_type": "markdown",
      "metadata": {
        "id": "hGx3Fll0BF8R"
      },
      "source": [
        "# Distância entre usuários do dataset"
      ]
    },
    {
      "cell_type": "code",
      "metadata": {
        "id": "j6EhruDR8Ewn"
      },
      "source": [
        "def distancia_de_vetores(a, b):\n",
        "  return np.linalg.norm(a - b)"
      ],
      "execution_count": 39,
      "outputs": []
    },
    {
      "cell_type": "code",
      "metadata": {
        "id": "zz3Dq-O78Xqh"
      },
      "source": [
        "def notas_do_usuario(usuario):\n",
        "  notas_do_usuario = notas.query(\"usuarioId == %d\" % usuario)\n",
        "  notas_do_usuario = notas_do_usuario[[\"filmeId\", \"nota\"]].set_index(\"filmeId\")\n",
        "  return notas_do_usuario"
      ],
      "execution_count": 29,
      "outputs": []
    },
    {
      "cell_type": "code",
      "metadata": {
        "id": "QISHO8LG8xMb"
      },
      "source": [
        "usuario1 = notas_do_usuario(1)\n",
        "usuario4 = notas_do_usuario(4)"
      ],
      "execution_count": 31,
      "outputs": []
    },
    {
      "cell_type": "code",
      "metadata": {
        "colab": {
          "base_uri": "https://localhost:8080/",
          "height": 235
        },
        "id": "BWbR8Ghz-Yeu",
        "outputId": "7ea99cf2-8e77-4fd8-a048-764878e33784"
      },
      "source": [
        "usuario1.head()"
      ],
      "execution_count": 33,
      "outputs": [
        {
          "output_type": "execute_result",
          "data": {
            "text/html": [
              "<div>\n",
              "<style scoped>\n",
              "    .dataframe tbody tr th:only-of-type {\n",
              "        vertical-align: middle;\n",
              "    }\n",
              "\n",
              "    .dataframe tbody tr th {\n",
              "        vertical-align: top;\n",
              "    }\n",
              "\n",
              "    .dataframe thead th {\n",
              "        text-align: right;\n",
              "    }\n",
              "</style>\n",
              "<table border=\"1\" class=\"dataframe\">\n",
              "  <thead>\n",
              "    <tr style=\"text-align: right;\">\n",
              "      <th></th>\n",
              "      <th>nota</th>\n",
              "    </tr>\n",
              "    <tr>\n",
              "      <th>filmeId</th>\n",
              "      <th></th>\n",
              "    </tr>\n",
              "  </thead>\n",
              "  <tbody>\n",
              "    <tr>\n",
              "      <th>1</th>\n",
              "      <td>4.0</td>\n",
              "    </tr>\n",
              "    <tr>\n",
              "      <th>3</th>\n",
              "      <td>4.0</td>\n",
              "    </tr>\n",
              "    <tr>\n",
              "      <th>6</th>\n",
              "      <td>4.0</td>\n",
              "    </tr>\n",
              "    <tr>\n",
              "      <th>47</th>\n",
              "      <td>5.0</td>\n",
              "    </tr>\n",
              "    <tr>\n",
              "      <th>50</th>\n",
              "      <td>5.0</td>\n",
              "    </tr>\n",
              "  </tbody>\n",
              "</table>\n",
              "</div>"
            ],
            "text/plain": [
              "         nota\n",
              "filmeId      \n",
              "1         4.0\n",
              "3         4.0\n",
              "6         4.0\n",
              "47        5.0\n",
              "50        5.0"
            ]
          },
          "metadata": {
            "tags": []
          },
          "execution_count": 33
        }
      ]
    },
    {
      "cell_type": "code",
      "metadata": {
        "colab": {
          "base_uri": "https://localhost:8080/",
          "height": 235
        },
        "id": "MtSrS_ui-9SD",
        "outputId": "6da926a5-0039-4b62-d58e-79d29b18d2f9"
      },
      "source": [
        "usuario4.head()"
      ],
      "execution_count": 34,
      "outputs": [
        {
          "output_type": "execute_result",
          "data": {
            "text/html": [
              "<div>\n",
              "<style scoped>\n",
              "    .dataframe tbody tr th:only-of-type {\n",
              "        vertical-align: middle;\n",
              "    }\n",
              "\n",
              "    .dataframe tbody tr th {\n",
              "        vertical-align: top;\n",
              "    }\n",
              "\n",
              "    .dataframe thead th {\n",
              "        text-align: right;\n",
              "    }\n",
              "</style>\n",
              "<table border=\"1\" class=\"dataframe\">\n",
              "  <thead>\n",
              "    <tr style=\"text-align: right;\">\n",
              "      <th></th>\n",
              "      <th>nota</th>\n",
              "    </tr>\n",
              "    <tr>\n",
              "      <th>filmeId</th>\n",
              "      <th></th>\n",
              "    </tr>\n",
              "  </thead>\n",
              "  <tbody>\n",
              "    <tr>\n",
              "      <th>21</th>\n",
              "      <td>3.0</td>\n",
              "    </tr>\n",
              "    <tr>\n",
              "      <th>32</th>\n",
              "      <td>2.0</td>\n",
              "    </tr>\n",
              "    <tr>\n",
              "      <th>45</th>\n",
              "      <td>3.0</td>\n",
              "    </tr>\n",
              "    <tr>\n",
              "      <th>47</th>\n",
              "      <td>2.0</td>\n",
              "    </tr>\n",
              "    <tr>\n",
              "      <th>52</th>\n",
              "      <td>3.0</td>\n",
              "    </tr>\n",
              "  </tbody>\n",
              "</table>\n",
              "</div>"
            ],
            "text/plain": [
              "         nota\n",
              "filmeId      \n",
              "21        3.0\n",
              "32        2.0\n",
              "45        3.0\n",
              "47        2.0\n",
              "52        3.0"
            ]
          },
          "metadata": {
            "tags": []
          },
          "execution_count": 34
        }
      ]
    },
    {
      "cell_type": "code",
      "metadata": {
        "colab": {
          "base_uri": "https://localhost:8080/"
        },
        "id": "k6zecmsc_CXN",
        "outputId": "48223c97-e91f-47a5-b46c-a57e8f2f3546"
      },
      "source": [
        "diferencas = usuario1.join(usuario4, lsuffix=\"_esquerda\", rsuffix=\"_direita\").dropna()\n",
        "distancia_de_vetores(diferencas['nota_esquerda'], diferencas['nota_direita'])"
      ],
      "execution_count": 41,
      "outputs": [
        {
          "output_type": "execute_result",
          "data": {
            "text/plain": [
              "11.135528725660043"
            ]
          },
          "metadata": {
            "tags": []
          },
          "execution_count": 41
        }
      ]
    },
    {
      "cell_type": "code",
      "metadata": {
        "id": "t1CZYs9S_Vms"
      },
      "source": [
        "def distancia_de_usuarios(usuario_id1, usuario_id2):\n",
        "  notas1 = notas_do_usuario(usuario_id1)\n",
        "  notas2 = notas_do_usuario(usuario_id2)\n",
        "  diferencas = notas1.join(notas2, lsuffix=\"_esquerda\", rsuffix=\"_direita\").dropna()\n",
        "  distancia = distancia_de_vetores(diferencas['nota_esquerda'], diferencas['nota_direita'])\n",
        "  return [usuario_id1, usuario_id2, distancia]"
      ],
      "execution_count": 48,
      "outputs": []
    },
    {
      "cell_type": "code",
      "metadata": {
        "colab": {
          "base_uri": "https://localhost:8080/"
        },
        "id": "kr7q6lnmAmW5",
        "outputId": "f4e2a373-ebf7-4b8d-ba06-d7cf7276a59f"
      },
      "source": [
        "distancia_de_usuarios(1, 4)"
      ],
      "execution_count": 49,
      "outputs": [
        {
          "output_type": "execute_result",
          "data": {
            "text/plain": [
              "[1, 4, 11.135528725660043]"
            ]
          },
          "metadata": {
            "tags": []
          },
          "execution_count": 49
        }
      ]
    },
    {
      "cell_type": "code",
      "metadata": {
        "colab": {
          "base_uri": "https://localhost:8080/"
        },
        "id": "JOTIDqpWAoKS",
        "outputId": "81a4c1a5-6032-4257-e5df-3b12bf130c4e"
      },
      "source": [
        "quantidade_de_usuarios = len(notas['usuarioId'].unique())\n",
        "print(\"Temos %d usuarios\" % quantidade_de_usuarios)"
      ],
      "execution_count": 50,
      "outputs": [
        {
          "output_type": "stream",
          "text": [
            "Temos 288 usuarios\n"
          ],
          "name": "stdout"
        }
      ]
    },
    {
      "cell_type": "code",
      "metadata": {
        "colab": {
          "base_uri": "https://localhost:8080/"
        },
        "id": "yh5IeTYMBSqF",
        "outputId": "99b68d47-e506-4e3a-b165-efeffa7e8475"
      },
      "source": [
        "def distancia_de_todos(voce_id):\n",
        "\n",
        "  distancias = []\n",
        "\n",
        "  for usuario_id in notas['usuarioId'].unique():\n",
        "    informacoes = distancia_de_usuarios(voce_id, usuario_id)\n",
        "    distancias.append(informacoes)\n",
        "  return distancias\n",
        "\n",
        "distancia_de_todos(1)[:5]"
      ],
      "execution_count": 56,
      "outputs": [
        {
          "output_type": "execute_result",
          "data": {
            "text/plain": [
              "[[1, 1, 0.0],\n",
              " [1, 2, 1.4142135623730951],\n",
              " [1, 3, 8.200609733428363],\n",
              " [1, 4, 11.135528725660043],\n",
              " [1, 5, 3.7416573867739413]]"
            ]
          },
          "metadata": {
            "tags": []
          },
          "execution_count": 56
        }
      ]
    },
    {
      "cell_type": "code",
      "metadata": {
        "colab": {
          "base_uri": "https://localhost:8080/",
          "height": 204
        },
        "id": "UUYdxWQiBvmz",
        "outputId": "5fb825b4-73ee-4c23-8058-30c71aa8d4d3"
      },
      "source": [
        "def distancia_de_todos(voce_id):\n",
        "  todos_os_usuarios = notas['usuarioId'].unique()\n",
        "  distancias = [distancia_de_usuarios(voce_id, usuario_id) for usuario_id in todos_os_usuarios]\n",
        "  distancias = pd.DataFrame(distancias, columns = [\"Voce\", \"outra_pessoa\", \"distancia\"])\n",
        "  return distancias\n",
        "\n",
        "distancia_de_todos(1).head()"
      ],
      "execution_count": 60,
      "outputs": [
        {
          "output_type": "execute_result",
          "data": {
            "text/html": [
              "<div>\n",
              "<style scoped>\n",
              "    .dataframe tbody tr th:only-of-type {\n",
              "        vertical-align: middle;\n",
              "    }\n",
              "\n",
              "    .dataframe tbody tr th {\n",
              "        vertical-align: top;\n",
              "    }\n",
              "\n",
              "    .dataframe thead th {\n",
              "        text-align: right;\n",
              "    }\n",
              "</style>\n",
              "<table border=\"1\" class=\"dataframe\">\n",
              "  <thead>\n",
              "    <tr style=\"text-align: right;\">\n",
              "      <th></th>\n",
              "      <th>Voce</th>\n",
              "      <th>outra_pessoa</th>\n",
              "      <th>distancia</th>\n",
              "    </tr>\n",
              "  </thead>\n",
              "  <tbody>\n",
              "    <tr>\n",
              "      <th>0</th>\n",
              "      <td>1</td>\n",
              "      <td>1</td>\n",
              "      <td>0.000000</td>\n",
              "    </tr>\n",
              "    <tr>\n",
              "      <th>1</th>\n",
              "      <td>1</td>\n",
              "      <td>2</td>\n",
              "      <td>1.414214</td>\n",
              "    </tr>\n",
              "    <tr>\n",
              "      <th>2</th>\n",
              "      <td>1</td>\n",
              "      <td>3</td>\n",
              "      <td>8.200610</td>\n",
              "    </tr>\n",
              "    <tr>\n",
              "      <th>3</th>\n",
              "      <td>1</td>\n",
              "      <td>4</td>\n",
              "      <td>11.135529</td>\n",
              "    </tr>\n",
              "    <tr>\n",
              "      <th>4</th>\n",
              "      <td>1</td>\n",
              "      <td>5</td>\n",
              "      <td>3.741657</td>\n",
              "    </tr>\n",
              "  </tbody>\n",
              "</table>\n",
              "</div>"
            ],
            "text/plain": [
              "   Voce  outra_pessoa  distancia\n",
              "0     1             1   0.000000\n",
              "1     1             2   1.414214\n",
              "2     1             3   8.200610\n",
              "3     1             4  11.135529\n",
              "4     1             5   3.741657"
            ]
          },
          "metadata": {
            "tags": []
          },
          "execution_count": 60
        }
      ]
    },
    {
      "cell_type": "markdown",
      "metadata": {
        "id": "s8K-WlPTD2Gw"
      },
      "source": [
        "# Usuários sem nada em comum são colocados bem distante um do outro"
      ]
    },
    {
      "cell_type": "code",
      "metadata": {
        "id": "BBMehtNRC4nd"
      },
      "source": [
        "minimo = 5\n",
        "def distancia_de_usuarios(usuario_id1, usuario_id2, minimo = 5):\n",
        "  notas1 = notas_do_usuario(usuario_id1)\n",
        "  notas2 = notas_do_usuario(usuario_id2)\n",
        "  diferencas = notas1.join(notas2, lsuffix=\"_esquerda\", rsuffix=\"_direita\").dropna()\n",
        "\n",
        "  if(len(diferencas) < minimo):\n",
        "    return [usuario_id1, usuario_id2, 100000]\n",
        "\n",
        "  distancia = distancia_de_vetores(diferencas['nota_esquerda'], diferencas['nota_direita'])\n",
        "  return [usuario_id1, usuario_id2, distancia]"
      ],
      "execution_count": 66,
      "outputs": []
    },
    {
      "cell_type": "code",
      "metadata": {
        "colab": {
          "base_uri": "https://localhost:8080/",
          "height": 204
        },
        "id": "ThGcT_ryEL1O",
        "outputId": "deb3a6bd-974e-463f-816c-1477d0acfce7"
      },
      "source": [
        "distancia_de_todos(1).head()"
      ],
      "execution_count": 67,
      "outputs": [
        {
          "output_type": "execute_result",
          "data": {
            "text/html": [
              "<div>\n",
              "<style scoped>\n",
              "    .dataframe tbody tr th:only-of-type {\n",
              "        vertical-align: middle;\n",
              "    }\n",
              "\n",
              "    .dataframe tbody tr th {\n",
              "        vertical-align: top;\n",
              "    }\n",
              "\n",
              "    .dataframe thead th {\n",
              "        text-align: right;\n",
              "    }\n",
              "</style>\n",
              "<table border=\"1\" class=\"dataframe\">\n",
              "  <thead>\n",
              "    <tr style=\"text-align: right;\">\n",
              "      <th></th>\n",
              "      <th>Voce</th>\n",
              "      <th>outra_pessoa</th>\n",
              "      <th>distancia</th>\n",
              "    </tr>\n",
              "  </thead>\n",
              "  <tbody>\n",
              "    <tr>\n",
              "      <th>0</th>\n",
              "      <td>1</td>\n",
              "      <td>1</td>\n",
              "      <td>0.000000</td>\n",
              "    </tr>\n",
              "    <tr>\n",
              "      <th>1</th>\n",
              "      <td>1</td>\n",
              "      <td>2</td>\n",
              "      <td>100000.000000</td>\n",
              "    </tr>\n",
              "    <tr>\n",
              "      <th>2</th>\n",
              "      <td>1</td>\n",
              "      <td>3</td>\n",
              "      <td>8.200610</td>\n",
              "    </tr>\n",
              "    <tr>\n",
              "      <th>3</th>\n",
              "      <td>1</td>\n",
              "      <td>4</td>\n",
              "      <td>11.135529</td>\n",
              "    </tr>\n",
              "    <tr>\n",
              "      <th>4</th>\n",
              "      <td>1</td>\n",
              "      <td>5</td>\n",
              "      <td>3.741657</td>\n",
              "    </tr>\n",
              "  </tbody>\n",
              "</table>\n",
              "</div>"
            ],
            "text/plain": [
              "   Voce  outra_pessoa      distancia\n",
              "0     1             1       0.000000\n",
              "1     1             2  100000.000000\n",
              "2     1             3       8.200610\n",
              "3     1             4      11.135529\n",
              "4     1             5       3.741657"
            ]
          },
          "metadata": {
            "tags": []
          },
          "execution_count": 67
        }
      ]
    },
    {
      "cell_type": "code",
      "metadata": {
        "id": "HV4YpZoAEgSk"
      },
      "source": [
        "def mais_proximos_de(voce_id):\n",
        "  distancias = distancia_de_todos(voce_id)\n",
        "  distancias = distancias.sort_values(\"distancia\")\n",
        "  distancias = distancias.set_index(\"outra_pessoa\").drop(voce_id)\n",
        "  return distancias"
      ],
      "execution_count": 72,
      "outputs": []
    },
    {
      "cell_type": "code",
      "metadata": {
        "colab": {
          "base_uri": "https://localhost:8080/",
          "height": 450
        },
        "id": "mqx-80d6FNFW",
        "outputId": "d434039e-014d-4983-9e49-b751bccba7e9"
      },
      "source": [
        "mais_proximos_de(1)"
      ],
      "execution_count": 74,
      "outputs": [
        {
          "output_type": "execute_result",
          "data": {
            "text/html": [
              "<div>\n",
              "<style scoped>\n",
              "    .dataframe tbody tr th:only-of-type {\n",
              "        vertical-align: middle;\n",
              "    }\n",
              "\n",
              "    .dataframe tbody tr th {\n",
              "        vertical-align: top;\n",
              "    }\n",
              "\n",
              "    .dataframe thead th {\n",
              "        text-align: right;\n",
              "    }\n",
              "</style>\n",
              "<table border=\"1\" class=\"dataframe\">\n",
              "  <thead>\n",
              "    <tr style=\"text-align: right;\">\n",
              "      <th></th>\n",
              "      <th>Voce</th>\n",
              "      <th>distancia</th>\n",
              "    </tr>\n",
              "    <tr>\n",
              "      <th>outra_pessoa</th>\n",
              "      <th></th>\n",
              "      <th></th>\n",
              "    </tr>\n",
              "  </thead>\n",
              "  <tbody>\n",
              "    <tr>\n",
              "      <th>77</th>\n",
              "      <td>1</td>\n",
              "      <td>0.000000</td>\n",
              "    </tr>\n",
              "    <tr>\n",
              "      <th>49</th>\n",
              "      <td>1</td>\n",
              "      <td>1.000000</td>\n",
              "    </tr>\n",
              "    <tr>\n",
              "      <th>258</th>\n",
              "      <td>1</td>\n",
              "      <td>1.000000</td>\n",
              "    </tr>\n",
              "    <tr>\n",
              "      <th>9</th>\n",
              "      <td>1</td>\n",
              "      <td>1.000000</td>\n",
              "    </tr>\n",
              "    <tr>\n",
              "      <th>65</th>\n",
              "      <td>1</td>\n",
              "      <td>1.322876</td>\n",
              "    </tr>\n",
              "    <tr>\n",
              "      <th>...</th>\n",
              "      <td>...</td>\n",
              "      <td>...</td>\n",
              "    </tr>\n",
              "    <tr>\n",
              "      <th>245</th>\n",
              "      <td>1</td>\n",
              "      <td>100000.000000</td>\n",
              "    </tr>\n",
              "    <tr>\n",
              "      <th>257</th>\n",
              "      <td>1</td>\n",
              "      <td>100000.000000</td>\n",
              "    </tr>\n",
              "    <tr>\n",
              "      <th>250</th>\n",
              "      <td>1</td>\n",
              "      <td>100000.000000</td>\n",
              "    </tr>\n",
              "    <tr>\n",
              "      <th>272</th>\n",
              "      <td>1</td>\n",
              "      <td>100000.000000</td>\n",
              "    </tr>\n",
              "    <tr>\n",
              "      <th>12</th>\n",
              "      <td>1</td>\n",
              "      <td>100000.000000</td>\n",
              "    </tr>\n",
              "  </tbody>\n",
              "</table>\n",
              "<p>287 rows × 2 columns</p>\n",
              "</div>"
            ],
            "text/plain": [
              "              Voce      distancia\n",
              "outra_pessoa                     \n",
              "77               1       0.000000\n",
              "49               1       1.000000\n",
              "258              1       1.000000\n",
              "9                1       1.000000\n",
              "65               1       1.322876\n",
              "...            ...            ...\n",
              "245              1  100000.000000\n",
              "257              1  100000.000000\n",
              "250              1  100000.000000\n",
              "272              1  100000.000000\n",
              "12               1  100000.000000\n",
              "\n",
              "[287 rows x 2 columns]"
            ]
          },
          "metadata": {
            "tags": []
          },
          "execution_count": 74
        }
      ]
    },
    {
      "cell_type": "markdown",
      "metadata": {
        "id": "gkjt-7bdIzoe"
      },
      "source": [
        "# Parâmetros para teste"
      ]
    },
    {
      "cell_type": "code",
      "metadata": {
        "id": "f7NKGZczIzI_"
      },
      "source": [
        "def mais_proximos_de(voce_id, n = None):\n",
        "  distancias = distancia_de_todos(voce_id, n = n)\n",
        "  distancias = distancias.sort_values(\"distancia\")\n",
        "  distancias = distancias.set_index(\"outra_pessoa\").drop(voce_id)\n",
        "  return distancias"
      ],
      "execution_count": 76,
      "outputs": []
    },
    {
      "cell_type": "code",
      "metadata": {
        "id": "ArdUeBeAFPIQ"
      },
      "source": [
        "def distancia_de_todos(voce_id, n = None):\n",
        "  todos_os_usuarios = notas['usuarioId'].unique()\n",
        "  if n:\n",
        "    todos_os_usuarios = todos_os_usuarios[:n]\n",
        "  distancias = [distancia_de_usuarios(voce_id, usuario_id) for usuario_id in todos_os_usuarios]\n",
        "  distancias = pd.DataFrame(distancias, columns = [\"Voce\", \"outra_pessoa\", \"distancia\"])\n",
        "  return distancias"
      ],
      "execution_count": 77,
      "outputs": []
    },
    {
      "cell_type": "code",
      "metadata": {
        "colab": {
          "base_uri": "https://localhost:8080/",
          "height": 1000
        },
        "id": "MN1O8jNlJmRl",
        "outputId": "e0054b99-1a97-4950-8d82-475410990bf7"
      },
      "source": [
        "mais_proximos_de(1, n = 50)"
      ],
      "execution_count": 79,
      "outputs": [
        {
          "output_type": "execute_result",
          "data": {
            "text/html": [
              "<div>\n",
              "<style scoped>\n",
              "    .dataframe tbody tr th:only-of-type {\n",
              "        vertical-align: middle;\n",
              "    }\n",
              "\n",
              "    .dataframe tbody tr th {\n",
              "        vertical-align: top;\n",
              "    }\n",
              "\n",
              "    .dataframe thead th {\n",
              "        text-align: right;\n",
              "    }\n",
              "</style>\n",
              "<table border=\"1\" class=\"dataframe\">\n",
              "  <thead>\n",
              "    <tr style=\"text-align: right;\">\n",
              "      <th></th>\n",
              "      <th>Voce</th>\n",
              "      <th>distancia</th>\n",
              "    </tr>\n",
              "    <tr>\n",
              "      <th>outra_pessoa</th>\n",
              "      <th></th>\n",
              "      <th></th>\n",
              "    </tr>\n",
              "  </thead>\n",
              "  <tbody>\n",
              "    <tr>\n",
              "      <th>49</th>\n",
              "      <td>1</td>\n",
              "      <td>1.000000</td>\n",
              "    </tr>\n",
              "    <tr>\n",
              "      <th>9</th>\n",
              "      <td>1</td>\n",
              "      <td>1.000000</td>\n",
              "    </tr>\n",
              "    <tr>\n",
              "      <th>13</th>\n",
              "      <td>1</td>\n",
              "      <td>1.414214</td>\n",
              "    </tr>\n",
              "    <tr>\n",
              "      <th>25</th>\n",
              "      <td>1</td>\n",
              "      <td>1.414214</td>\n",
              "    </tr>\n",
              "    <tr>\n",
              "      <th>30</th>\n",
              "      <td>1</td>\n",
              "      <td>1.802776</td>\n",
              "    </tr>\n",
              "    <tr>\n",
              "      <th>35</th>\n",
              "      <td>1</td>\n",
              "      <td>2.236068</td>\n",
              "    </tr>\n",
              "    <tr>\n",
              "      <th>26</th>\n",
              "      <td>1</td>\n",
              "      <td>2.236068</td>\n",
              "    </tr>\n",
              "    <tr>\n",
              "      <th>46</th>\n",
              "      <td>1</td>\n",
              "      <td>3.316625</td>\n",
              "    </tr>\n",
              "    <tr>\n",
              "      <th>8</th>\n",
              "      <td>1</td>\n",
              "      <td>3.741657</td>\n",
              "    </tr>\n",
              "    <tr>\n",
              "      <th>44</th>\n",
              "      <td>1</td>\n",
              "      <td>3.741657</td>\n",
              "    </tr>\n",
              "    <tr>\n",
              "      <th>5</th>\n",
              "      <td>1</td>\n",
              "      <td>3.741657</td>\n",
              "    </tr>\n",
              "    <tr>\n",
              "      <th>37</th>\n",
              "      <td>1</td>\n",
              "      <td>4.000000</td>\n",
              "    </tr>\n",
              "    <tr>\n",
              "      <th>48</th>\n",
              "      <td>1</td>\n",
              "      <td>4.123106</td>\n",
              "    </tr>\n",
              "    <tr>\n",
              "      <th>11</th>\n",
              "      <td>1</td>\n",
              "      <td>4.242641</td>\n",
              "    </tr>\n",
              "    <tr>\n",
              "      <th>24</th>\n",
              "      <td>1</td>\n",
              "      <td>4.415880</td>\n",
              "    </tr>\n",
              "    <tr>\n",
              "      <th>29</th>\n",
              "      <td>1</td>\n",
              "      <td>4.555217</td>\n",
              "    </tr>\n",
              "    <tr>\n",
              "      <th>31</th>\n",
              "      <td>1</td>\n",
              "      <td>4.582576</td>\n",
              "    </tr>\n",
              "    <tr>\n",
              "      <th>17</th>\n",
              "      <td>1</td>\n",
              "      <td>4.609772</td>\n",
              "    </tr>\n",
              "    <tr>\n",
              "      <th>43</th>\n",
              "      <td>1</td>\n",
              "      <td>4.795832</td>\n",
              "    </tr>\n",
              "    <tr>\n",
              "      <th>14</th>\n",
              "      <td>1</td>\n",
              "      <td>5.000000</td>\n",
              "    </tr>\n",
              "    <tr>\n",
              "      <th>32</th>\n",
              "      <td>1</td>\n",
              "      <td>5.196152</td>\n",
              "    </tr>\n",
              "    <tr>\n",
              "      <th>22</th>\n",
              "      <td>1</td>\n",
              "      <td>5.244044</td>\n",
              "    </tr>\n",
              "    <tr>\n",
              "      <th>23</th>\n",
              "      <td>1</td>\n",
              "      <td>5.408327</td>\n",
              "    </tr>\n",
              "    <tr>\n",
              "      <th>38</th>\n",
              "      <td>1</td>\n",
              "      <td>5.567764</td>\n",
              "    </tr>\n",
              "    <tr>\n",
              "      <th>15</th>\n",
              "      <td>1</td>\n",
              "      <td>5.852350</td>\n",
              "    </tr>\n",
              "    <tr>\n",
              "      <th>33</th>\n",
              "      <td>1</td>\n",
              "      <td>5.916080</td>\n",
              "    </tr>\n",
              "    <tr>\n",
              "      <th>47</th>\n",
              "      <td>1</td>\n",
              "      <td>6.244998</td>\n",
              "    </tr>\n",
              "    <tr>\n",
              "      <th>34</th>\n",
              "      <td>1</td>\n",
              "      <td>6.363961</td>\n",
              "    </tr>\n",
              "    <tr>\n",
              "      <th>20</th>\n",
              "      <td>1</td>\n",
              "      <td>6.480741</td>\n",
              "    </tr>\n",
              "    <tr>\n",
              "      <th>36</th>\n",
              "      <td>1</td>\n",
              "      <td>6.519202</td>\n",
              "    </tr>\n",
              "    <tr>\n",
              "      <th>40</th>\n",
              "      <td>1</td>\n",
              "      <td>6.855655</td>\n",
              "    </tr>\n",
              "    <tr>\n",
              "      <th>7</th>\n",
              "      <td>1</td>\n",
              "      <td>7.106335</td>\n",
              "    </tr>\n",
              "    <tr>\n",
              "      <th>16</th>\n",
              "      <td>1</td>\n",
              "      <td>7.228416</td>\n",
              "    </tr>\n",
              "    <tr>\n",
              "      <th>50</th>\n",
              "      <td>1</td>\n",
              "      <td>7.331439</td>\n",
              "    </tr>\n",
              "    <tr>\n",
              "      <th>10</th>\n",
              "      <td>1</td>\n",
              "      <td>7.858117</td>\n",
              "    </tr>\n",
              "    <tr>\n",
              "      <th>3</th>\n",
              "      <td>1</td>\n",
              "      <td>8.200610</td>\n",
              "    </tr>\n",
              "    <tr>\n",
              "      <th>18</th>\n",
              "      <td>1</td>\n",
              "      <td>8.426150</td>\n",
              "    </tr>\n",
              "    <tr>\n",
              "      <th>6</th>\n",
              "      <td>1</td>\n",
              "      <td>8.602325</td>\n",
              "    </tr>\n",
              "    <tr>\n",
              "      <th>21</th>\n",
              "      <td>1</td>\n",
              "      <td>9.096703</td>\n",
              "    </tr>\n",
              "    <tr>\n",
              "      <th>27</th>\n",
              "      <td>1</td>\n",
              "      <td>9.219544</td>\n",
              "    </tr>\n",
              "    <tr>\n",
              "      <th>41</th>\n",
              "      <td>1</td>\n",
              "      <td>10.198039</td>\n",
              "    </tr>\n",
              "    <tr>\n",
              "      <th>45</th>\n",
              "      <td>1</td>\n",
              "      <td>10.653638</td>\n",
              "    </tr>\n",
              "    <tr>\n",
              "      <th>39</th>\n",
              "      <td>1</td>\n",
              "      <td>11.090537</td>\n",
              "    </tr>\n",
              "    <tr>\n",
              "      <th>4</th>\n",
              "      <td>1</td>\n",
              "      <td>11.135529</td>\n",
              "    </tr>\n",
              "    <tr>\n",
              "      <th>42</th>\n",
              "      <td>1</td>\n",
              "      <td>12.000000</td>\n",
              "    </tr>\n",
              "    <tr>\n",
              "      <th>28</th>\n",
              "      <td>1</td>\n",
              "      <td>14.882876</td>\n",
              "    </tr>\n",
              "    <tr>\n",
              "      <th>19</th>\n",
              "      <td>1</td>\n",
              "      <td>17.606817</td>\n",
              "    </tr>\n",
              "    <tr>\n",
              "      <th>2</th>\n",
              "      <td>1</td>\n",
              "      <td>100000.000000</td>\n",
              "    </tr>\n",
              "    <tr>\n",
              "      <th>12</th>\n",
              "      <td>1</td>\n",
              "      <td>100000.000000</td>\n",
              "    </tr>\n",
              "  </tbody>\n",
              "</table>\n",
              "</div>"
            ],
            "text/plain": [
              "              Voce      distancia\n",
              "outra_pessoa                     \n",
              "49               1       1.000000\n",
              "9                1       1.000000\n",
              "13               1       1.414214\n",
              "25               1       1.414214\n",
              "30               1       1.802776\n",
              "35               1       2.236068\n",
              "26               1       2.236068\n",
              "46               1       3.316625\n",
              "8                1       3.741657\n",
              "44               1       3.741657\n",
              "5                1       3.741657\n",
              "37               1       4.000000\n",
              "48               1       4.123106\n",
              "11               1       4.242641\n",
              "24               1       4.415880\n",
              "29               1       4.555217\n",
              "31               1       4.582576\n",
              "17               1       4.609772\n",
              "43               1       4.795832\n",
              "14               1       5.000000\n",
              "32               1       5.196152\n",
              "22               1       5.244044\n",
              "23               1       5.408327\n",
              "38               1       5.567764\n",
              "15               1       5.852350\n",
              "33               1       5.916080\n",
              "47               1       6.244998\n",
              "34               1       6.363961\n",
              "20               1       6.480741\n",
              "36               1       6.519202\n",
              "40               1       6.855655\n",
              "7                1       7.106335\n",
              "16               1       7.228416\n",
              "50               1       7.331439\n",
              "10               1       7.858117\n",
              "3                1       8.200610\n",
              "18               1       8.426150\n",
              "6                1       8.602325\n",
              "21               1       9.096703\n",
              "27               1       9.219544\n",
              "41               1      10.198039\n",
              "45               1      10.653638\n",
              "39               1      11.090537\n",
              "4                1      11.135529\n",
              "42               1      12.000000\n",
              "28               1      14.882876\n",
              "19               1      17.606817\n",
              "2                1  100000.000000\n",
              "12               1  100000.000000"
            ]
          },
          "metadata": {
            "tags": []
          },
          "execution_count": 79
        }
      ]
    },
    {
      "cell_type": "code",
      "metadata": {
        "id": "GWrV6EgLJ598"
      },
      "source": [
        "minimo = 5\n",
        "def distancia_de_usuarios(usuario_id1, usuario_id2, minimo = 5):\n",
        "  notas1 = notas_do_usuario(usuario_id1)\n",
        "  notas2 = notas_do_usuario(usuario_id2)\n",
        "  diferencas = notas1.join(notas2, lsuffix=\"_esquerda\", rsuffix=\"_direita\").dropna()\n",
        "\n",
        "  if(len(diferencas) < minimo):\n",
        "    return None\n",
        "\n",
        "  distancia = distancia_de_vetores(diferencas['nota_esquerda'], diferencas['nota_direita'])\n",
        "  return [usuario_id1, usuario_id2, distancia]"
      ],
      "execution_count": 83,
      "outputs": []
    },
    {
      "cell_type": "code",
      "metadata": {
        "id": "WaXe17BrJotD"
      },
      "source": [
        "def distancia_de_todos(voce_id, numero_de_usuarios_a_analisar = None):\n",
        "  todos_os_usuarios = notas['usuarioId'].unique()\n",
        "  if numero_de_usuarios_a_analisar:\n",
        "    todos_os_usuarios = todos_os_usuarios[:numero_de_usuarios_a_analisar]\n",
        "  distancias = [distancia_de_usuarios(voce_id, usuario_id) for usuario_id in todos_os_usuarios]\n",
        "  distancias = list(filter(None, distancias))\n",
        "  distancias = pd.DataFrame(distancias, columns = [\"Voce\", \"outra_pessoa\", \"distancia\"])\n",
        "  return distancias"
      ],
      "execution_count": 87,
      "outputs": []
    },
    {
      "cell_type": "code",
      "metadata": {
        "id": "La10r8wEKoVM"
      },
      "source": [
        "def mais_proximos_de(voce_id, numero_de_usuarios_a_analisar = None):\n",
        "  distancias = distancia_de_todos(voce_id, numero_de_usuarios_a_analisar = numero_de_usuarios_a_analisar)\n",
        "  distancias = distancias.sort_values(\"distancia\")\n",
        "  distancias = distancias.set_index(\"outra_pessoa\").drop(voce_id)\n",
        "  return distancias"
      ],
      "execution_count": 88,
      "outputs": []
    },
    {
      "cell_type": "code",
      "metadata": {
        "id": "pYK7eKTaKOQT"
      },
      "source": [
        "def sugere_para(voce, numero_de_usuarios_a_analisar = None):\n",
        "  notas_de_voce = notas_do_usuario(voce)\n",
        "  filmes_que_voce_ja_viu = notas_de_voce.index\n",
        "\n",
        "  similares = mais_proximos_de(voce, numero_de_usuarios_a_analisar = numero_de_usuarios_a_analisar)\n",
        "  similar = similares.iloc[0].name\n",
        "  notas_do_similar = notas_do_usuario(similar)\n",
        "  notas_do_similar = notas_do_similar.drop(filmes_que_voce_ja_viu, errors = 'ignore')\n",
        "  recomendacoes = notas_do_similar.sort_values(\"nota\", ascending = False)\n",
        "  return recomendacoes.join(filmes)"
      ],
      "execution_count": 104,
      "outputs": []
    },
    {
      "cell_type": "code",
      "metadata": {
        "colab": {
          "base_uri": "https://localhost:8080/",
          "height": 235
        },
        "id": "Q5pJha9dKQKi",
        "outputId": "e9044b8d-d669-4c99-bcd9-c7b21940617a"
      },
      "source": [
        "sugere_para(1, numero_de_usuarios_a_analisar = 50).head()"
      ],
      "execution_count": 106,
      "outputs": [
        {
          "output_type": "execute_result",
          "data": {
            "text/html": [
              "<div>\n",
              "<style scoped>\n",
              "    .dataframe tbody tr th:only-of-type {\n",
              "        vertical-align: middle;\n",
              "    }\n",
              "\n",
              "    .dataframe tbody tr th {\n",
              "        vertical-align: top;\n",
              "    }\n",
              "\n",
              "    .dataframe thead th {\n",
              "        text-align: right;\n",
              "    }\n",
              "</style>\n",
              "<table border=\"1\" class=\"dataframe\">\n",
              "  <thead>\n",
              "    <tr style=\"text-align: right;\">\n",
              "      <th></th>\n",
              "      <th>nota</th>\n",
              "      <th>titulo</th>\n",
              "      <th>generos</th>\n",
              "      <th>total_de_votos</th>\n",
              "      <th>nota_media</th>\n",
              "    </tr>\n",
              "    <tr>\n",
              "      <th>filmeId</th>\n",
              "      <th></th>\n",
              "      <th></th>\n",
              "      <th></th>\n",
              "      <th></th>\n",
              "      <th></th>\n",
              "    </tr>\n",
              "  </thead>\n",
              "  <tbody>\n",
              "    <tr>\n",
              "      <th>1200</th>\n",
              "      <td>4.5</td>\n",
              "      <td>Aliens (1986)</td>\n",
              "      <td>Action|Adventure|Horror|Sci-Fi</td>\n",
              "      <td>60.0</td>\n",
              "      <td>3.866667</td>\n",
              "    </tr>\n",
              "    <tr>\n",
              "      <th>4022</th>\n",
              "      <td>4.5</td>\n",
              "      <td>Cast Away (2000)</td>\n",
              "      <td>Drama</td>\n",
              "      <td>44.0</td>\n",
              "      <td>3.602273</td>\n",
              "    </tr>\n",
              "    <tr>\n",
              "      <th>47099</th>\n",
              "      <td>4.5</td>\n",
              "      <td>Pursuit of Happyness, The (2006)</td>\n",
              "      <td>Drama</td>\n",
              "      <td>25.0</td>\n",
              "      <td>3.800000</td>\n",
              "    </tr>\n",
              "    <tr>\n",
              "      <th>79132</th>\n",
              "      <td>4.5</td>\n",
              "      <td>Inception (2010)</td>\n",
              "      <td>Action|Crime|Drama|Mystery|Sci-Fi|Thriller|IMAX</td>\n",
              "      <td>61.0</td>\n",
              "      <td>4.008197</td>\n",
              "    </tr>\n",
              "    <tr>\n",
              "      <th>109487</th>\n",
              "      <td>4.5</td>\n",
              "      <td>Interstellar (2014)</td>\n",
              "      <td>Sci-Fi|IMAX</td>\n",
              "      <td>33.0</td>\n",
              "      <td>3.954545</td>\n",
              "    </tr>\n",
              "  </tbody>\n",
              "</table>\n",
              "</div>"
            ],
            "text/plain": [
              "         nota                            titulo  ... total_de_votos  nota_media\n",
              "filmeId                                          ...                           \n",
              "1200      4.5                     Aliens (1986)  ...           60.0    3.866667\n",
              "4022      4.5                  Cast Away (2000)  ...           44.0    3.602273\n",
              "47099     4.5  Pursuit of Happyness, The (2006)  ...           25.0    3.800000\n",
              "79132     4.5                  Inception (2010)  ...           61.0    4.008197\n",
              "109487    4.5               Interstellar (2014)  ...           33.0    3.954545\n",
              "\n",
              "[5 rows x 5 columns]"
            ]
          },
          "metadata": {
            "tags": []
          },
          "execution_count": 106
        }
      ]
    },
    {
      "cell_type": "code",
      "metadata": {
        "colab": {
          "base_uri": "https://localhost:8080/",
          "height": 235
        },
        "id": "BQvwBDSUMvRG",
        "outputId": "60038b83-895d-4cb9-f353-8a75ed0075f1"
      },
      "source": [
        "sugere_para(1).head()"
      ],
      "execution_count": 107,
      "outputs": [
        {
          "output_type": "execute_result",
          "data": {
            "text/html": [
              "<div>\n",
              "<style scoped>\n",
              "    .dataframe tbody tr th:only-of-type {\n",
              "        vertical-align: middle;\n",
              "    }\n",
              "\n",
              "    .dataframe tbody tr th {\n",
              "        vertical-align: top;\n",
              "    }\n",
              "\n",
              "    .dataframe thead th {\n",
              "        text-align: right;\n",
              "    }\n",
              "</style>\n",
              "<table border=\"1\" class=\"dataframe\">\n",
              "  <thead>\n",
              "    <tr style=\"text-align: right;\">\n",
              "      <th></th>\n",
              "      <th>nota</th>\n",
              "      <th>titulo</th>\n",
              "      <th>generos</th>\n",
              "      <th>total_de_votos</th>\n",
              "      <th>nota_media</th>\n",
              "    </tr>\n",
              "    <tr>\n",
              "      <th>filmeId</th>\n",
              "      <th></th>\n",
              "      <th></th>\n",
              "      <th></th>\n",
              "      <th></th>\n",
              "      <th></th>\n",
              "    </tr>\n",
              "  </thead>\n",
              "  <tbody>\n",
              "    <tr>\n",
              "      <th>8636</th>\n",
              "      <td>5.0</td>\n",
              "      <td>Spider-Man 2 (2004)</td>\n",
              "      <td>Action|Adventure|Sci-Fi|IMAX</td>\n",
              "      <td>39.0</td>\n",
              "      <td>3.897436</td>\n",
              "    </tr>\n",
              "    <tr>\n",
              "      <th>58559</th>\n",
              "      <td>5.0</td>\n",
              "      <td>Dark Knight, The (2008)</td>\n",
              "      <td>Action|Crime|Drama|IMAX</td>\n",
              "      <td>67.0</td>\n",
              "      <td>4.350746</td>\n",
              "    </tr>\n",
              "    <tr>\n",
              "      <th>33794</th>\n",
              "      <td>5.0</td>\n",
              "      <td>Batman Begins (2005)</td>\n",
              "      <td>Action|Crime|IMAX</td>\n",
              "      <td>51.0</td>\n",
              "      <td>3.901961</td>\n",
              "    </tr>\n",
              "    <tr>\n",
              "      <th>4993</th>\n",
              "      <td>5.0</td>\n",
              "      <td>Lord of the Rings: The Fellowship of the Ring,...</td>\n",
              "      <td>Adventure|Fantasy</td>\n",
              "      <td>87.0</td>\n",
              "      <td>4.011494</td>\n",
              "    </tr>\n",
              "    <tr>\n",
              "      <th>5349</th>\n",
              "      <td>5.0</td>\n",
              "      <td>Spider-Man (2002)</td>\n",
              "      <td>Action|Adventure|Sci-Fi|Thriller</td>\n",
              "      <td>58.0</td>\n",
              "      <td>3.500000</td>\n",
              "    </tr>\n",
              "  </tbody>\n",
              "</table>\n",
              "</div>"
            ],
            "text/plain": [
              "         nota  ... nota_media\n",
              "filmeId        ...           \n",
              "8636      5.0  ...   3.897436\n",
              "58559     5.0  ...   4.350746\n",
              "33794     5.0  ...   3.901961\n",
              "4993      5.0  ...   4.011494\n",
              "5349      5.0  ...   3.500000\n",
              "\n",
              "[5 rows x 5 columns]"
            ]
          },
          "metadata": {
            "tags": []
          },
          "execution_count": 107
        }
      ]
    },
    {
      "cell_type": "markdown",
      "metadata": {
        "id": "MHkiX5RENkhN"
      },
      "source": [
        "# Sugerindo baseado em vários usuários"
      ]
    },
    {
      "cell_type": "code",
      "metadata": {
        "id": "9DkrDbsOOHIL"
      },
      "source": [
        "def mais_proximos_de(voce_id, n_mais_proximos = 10, numero_de_usuarios_a_analisar = None):\n",
        "  distancias = distancia_de_todos(voce_id, numero_de_usuarios_a_analisar = numero_de_usuarios_a_analisar)\n",
        "  distancias = distancias.sort_values(\"distancia\")\n",
        "  distancias = distancias.set_index(\"outra_pessoa\").drop(voce_id)\n",
        "  return distancias.head(n_mais_proximos)"
      ],
      "execution_count": 109,
      "outputs": []
    },
    {
      "cell_type": "code",
      "metadata": {
        "colab": {
          "base_uri": "https://localhost:8080/",
          "height": 142
        },
        "id": "o_vXIU4lOQdC",
        "outputId": "3215bb5d-8a08-409e-891d-dc98dc91ee5a"
      },
      "source": [
        "mais_proximos_de(1, n_mais_proximos = 2, numero_de_usuarios_a_analisar=300)"
      ],
      "execution_count": 111,
      "outputs": [
        {
          "output_type": "execute_result",
          "data": {
            "text/html": [
              "<div>\n",
              "<style scoped>\n",
              "    .dataframe tbody tr th:only-of-type {\n",
              "        vertical-align: middle;\n",
              "    }\n",
              "\n",
              "    .dataframe tbody tr th {\n",
              "        vertical-align: top;\n",
              "    }\n",
              "\n",
              "    .dataframe thead th {\n",
              "        text-align: right;\n",
              "    }\n",
              "</style>\n",
              "<table border=\"1\" class=\"dataframe\">\n",
              "  <thead>\n",
              "    <tr style=\"text-align: right;\">\n",
              "      <th></th>\n",
              "      <th>Voce</th>\n",
              "      <th>distancia</th>\n",
              "    </tr>\n",
              "    <tr>\n",
              "      <th>outra_pessoa</th>\n",
              "      <th></th>\n",
              "      <th></th>\n",
              "    </tr>\n",
              "  </thead>\n",
              "  <tbody>\n",
              "    <tr>\n",
              "      <th>77</th>\n",
              "      <td>1</td>\n",
              "      <td>0.0</td>\n",
              "    </tr>\n",
              "    <tr>\n",
              "      <th>49</th>\n",
              "      <td>1</td>\n",
              "      <td>1.0</td>\n",
              "    </tr>\n",
              "  </tbody>\n",
              "</table>\n",
              "</div>"
            ],
            "text/plain": [
              "              Voce  distancia\n",
              "outra_pessoa                 \n",
              "77               1        0.0\n",
              "49               1        1.0"
            ]
          },
          "metadata": {
            "tags": []
          },
          "execution_count": 111
        }
      ]
    },
    {
      "cell_type": "code",
      "metadata": {
        "id": "xM0joUmsNI2c"
      },
      "source": [
        "def sugere_para(voce, n_mais_proximos = 10, numero_de_usuarios_a_analisar = None):\n",
        "  notas_de_voce = notas_do_usuario(voce)\n",
        "  filmes_que_voce_ja_viu = notas_de_voce.index\n",
        "\n",
        "  similares = mais_proximos_de(voce, n_mais_proximos = n_mais_proximos, numero_de_usuarios_a_analisar = numero_de_usuarios_a_analisar)\n",
        "  usuarios_similares = similares.index\n",
        "  notas_do_similares = notas.set_index(\"usuarioId\").loc[usuarios_similares]\n",
        "  recomendacoes = notas_do_similares.groupby(\"filmeId\").mean()[[\"nota\"]]\n",
        "  recomendacoes = recomendacoes.sort_values(\"nota\", ascending = False)\n",
        "  return recomendacoes.join(filmes).head()"
      ],
      "execution_count": 122,
      "outputs": []
    },
    {
      "cell_type": "code",
      "metadata": {
        "colab": {
          "base_uri": "https://localhost:8080/",
          "height": 235
        },
        "id": "Iee_t5u9Nx0C",
        "outputId": "373629cc-2b3f-44c9-945c-cd86756d9ba5"
      },
      "source": [
        "sugere_para(1, numero_de_usuarios_a_analisar = 50).head()"
      ],
      "execution_count": 123,
      "outputs": [
        {
          "output_type": "execute_result",
          "data": {
            "text/html": [
              "<div>\n",
              "<style scoped>\n",
              "    .dataframe tbody tr th:only-of-type {\n",
              "        vertical-align: middle;\n",
              "    }\n",
              "\n",
              "    .dataframe tbody tr th {\n",
              "        vertical-align: top;\n",
              "    }\n",
              "\n",
              "    .dataframe thead th {\n",
              "        text-align: right;\n",
              "    }\n",
              "</style>\n",
              "<table border=\"1\" class=\"dataframe\">\n",
              "  <thead>\n",
              "    <tr style=\"text-align: right;\">\n",
              "      <th></th>\n",
              "      <th>nota</th>\n",
              "      <th>titulo</th>\n",
              "      <th>generos</th>\n",
              "      <th>total_de_votos</th>\n",
              "      <th>nota_media</th>\n",
              "    </tr>\n",
              "    <tr>\n",
              "      <th>filmeId</th>\n",
              "      <th></th>\n",
              "      <th></th>\n",
              "      <th></th>\n",
              "      <th></th>\n",
              "      <th></th>\n",
              "    </tr>\n",
              "  </thead>\n",
              "  <tbody>\n",
              "    <tr>\n",
              "      <th>187593</th>\n",
              "      <td>5.0</td>\n",
              "      <td>Deadpool 2 (2018)</td>\n",
              "      <td>Action|Comedy|Sci-Fi</td>\n",
              "      <td>6.0</td>\n",
              "      <td>4.333333</td>\n",
              "    </tr>\n",
              "    <tr>\n",
              "      <th>68157</th>\n",
              "      <td>5.0</td>\n",
              "      <td>Inglourious Basterds (2009)</td>\n",
              "      <td>Action|Drama|War</td>\n",
              "      <td>38.0</td>\n",
              "      <td>4.223684</td>\n",
              "    </tr>\n",
              "    <tr>\n",
              "      <th>475</th>\n",
              "      <td>5.0</td>\n",
              "      <td>In the Name of the Father (1993)</td>\n",
              "      <td>Drama</td>\n",
              "      <td>14.0</td>\n",
              "      <td>4.357143</td>\n",
              "    </tr>\n",
              "    <tr>\n",
              "      <th>33794</th>\n",
              "      <td>5.0</td>\n",
              "      <td>Batman Begins (2005)</td>\n",
              "      <td>Action|Crime|IMAX</td>\n",
              "      <td>51.0</td>\n",
              "      <td>3.901961</td>\n",
              "    </tr>\n",
              "    <tr>\n",
              "      <th>7153</th>\n",
              "      <td>5.0</td>\n",
              "      <td>Lord of the Rings: The Return of the King, The...</td>\n",
              "      <td>Action|Adventure|Drama|Fantasy</td>\n",
              "      <td>80.0</td>\n",
              "      <td>4.081250</td>\n",
              "    </tr>\n",
              "  </tbody>\n",
              "</table>\n",
              "</div>"
            ],
            "text/plain": [
              "         nota  ... nota_media\n",
              "filmeId        ...           \n",
              "187593    5.0  ...   4.333333\n",
              "68157     5.0  ...   4.223684\n",
              "475       5.0  ...   4.357143\n",
              "33794     5.0  ...   3.901961\n",
              "7153      5.0  ...   4.081250\n",
              "\n",
              "[5 rows x 5 columns]"
            ]
          },
          "metadata": {
            "tags": []
          },
          "execution_count": 123
        }
      ]
    },
    {
      "cell_type": "code",
      "metadata": {
        "colab": {
          "base_uri": "https://localhost:8080/",
          "height": 235
        },
        "id": "v-zJBTFmQQ1h",
        "outputId": "eb96a825-c670-4fc0-a50b-a2d04098b90d"
      },
      "source": [
        "sugere_para(1, numero_de_usuarios_a_analisar = 300).head()"
      ],
      "execution_count": 124,
      "outputs": [
        {
          "output_type": "execute_result",
          "data": {
            "text/html": [
              "<div>\n",
              "<style scoped>\n",
              "    .dataframe tbody tr th:only-of-type {\n",
              "        vertical-align: middle;\n",
              "    }\n",
              "\n",
              "    .dataframe tbody tr th {\n",
              "        vertical-align: top;\n",
              "    }\n",
              "\n",
              "    .dataframe thead th {\n",
              "        text-align: right;\n",
              "    }\n",
              "</style>\n",
              "<table border=\"1\" class=\"dataframe\">\n",
              "  <thead>\n",
              "    <tr style=\"text-align: right;\">\n",
              "      <th></th>\n",
              "      <th>nota</th>\n",
              "      <th>titulo</th>\n",
              "      <th>generos</th>\n",
              "      <th>total_de_votos</th>\n",
              "      <th>nota_media</th>\n",
              "    </tr>\n",
              "    <tr>\n",
              "      <th>filmeId</th>\n",
              "      <th></th>\n",
              "      <th></th>\n",
              "      <th></th>\n",
              "      <th></th>\n",
              "      <th></th>\n",
              "    </tr>\n",
              "  </thead>\n",
              "  <tbody>\n",
              "    <tr>\n",
              "      <th>187593</th>\n",
              "      <td>5.0</td>\n",
              "      <td>Deadpool 2 (2018)</td>\n",
              "      <td>Action|Comedy|Sci-Fi</td>\n",
              "      <td>6.0</td>\n",
              "      <td>4.333333</td>\n",
              "    </tr>\n",
              "    <tr>\n",
              "      <th>3752</th>\n",
              "      <td>5.0</td>\n",
              "      <td>Me, Myself &amp; Irene (2000)</td>\n",
              "      <td>Adventure|Comedy</td>\n",
              "      <td>19.0</td>\n",
              "      <td>3.184211</td>\n",
              "    </tr>\n",
              "    <tr>\n",
              "      <th>818</th>\n",
              "      <td>5.0</td>\n",
              "      <td>Very Brady Sequel, A (1996)</td>\n",
              "      <td>Comedy</td>\n",
              "      <td>5.0</td>\n",
              "      <td>3.400000</td>\n",
              "    </tr>\n",
              "    <tr>\n",
              "      <th>8636</th>\n",
              "      <td>5.0</td>\n",
              "      <td>Spider-Man 2 (2004)</td>\n",
              "      <td>Action|Adventure|Sci-Fi|IMAX</td>\n",
              "      <td>39.0</td>\n",
              "      <td>3.897436</td>\n",
              "    </tr>\n",
              "    <tr>\n",
              "      <th>802</th>\n",
              "      <td>5.0</td>\n",
              "      <td>Phenomenon (1996)</td>\n",
              "      <td>Drama|Romance</td>\n",
              "      <td>19.0</td>\n",
              "      <td>3.631579</td>\n",
              "    </tr>\n",
              "  </tbody>\n",
              "</table>\n",
              "</div>"
            ],
            "text/plain": [
              "         nota                       titulo  ... total_de_votos  nota_media\n",
              "filmeId                                     ...                           \n",
              "187593    5.0            Deadpool 2 (2018)  ...            6.0    4.333333\n",
              "3752      5.0    Me, Myself & Irene (2000)  ...           19.0    3.184211\n",
              "818       5.0  Very Brady Sequel, A (1996)  ...            5.0    3.400000\n",
              "8636      5.0          Spider-Man 2 (2004)  ...           39.0    3.897436\n",
              "802       5.0            Phenomenon (1996)  ...           19.0    3.631579\n",
              "\n",
              "[5 rows x 5 columns]"
            ]
          },
          "metadata": {
            "tags": []
          },
          "execution_count": 124
        }
      ]
    },
    {
      "cell_type": "code",
      "metadata": {
        "colab": {
          "base_uri": "https://localhost:8080/",
          "height": 235
        },
        "id": "pzo6bJzGQcWB",
        "outputId": "1263eb73-ffa6-4cd5-8095-bfa478af9fc1"
      },
      "source": [
        "sugere_para(1).head()"
      ],
      "execution_count": 125,
      "outputs": [
        {
          "output_type": "execute_result",
          "data": {
            "text/html": [
              "<div>\n",
              "<style scoped>\n",
              "    .dataframe tbody tr th:only-of-type {\n",
              "        vertical-align: middle;\n",
              "    }\n",
              "\n",
              "    .dataframe tbody tr th {\n",
              "        vertical-align: top;\n",
              "    }\n",
              "\n",
              "    .dataframe thead th {\n",
              "        text-align: right;\n",
              "    }\n",
              "</style>\n",
              "<table border=\"1\" class=\"dataframe\">\n",
              "  <thead>\n",
              "    <tr style=\"text-align: right;\">\n",
              "      <th></th>\n",
              "      <th>nota</th>\n",
              "      <th>titulo</th>\n",
              "      <th>generos</th>\n",
              "      <th>total_de_votos</th>\n",
              "      <th>nota_media</th>\n",
              "    </tr>\n",
              "    <tr>\n",
              "      <th>filmeId</th>\n",
              "      <th></th>\n",
              "      <th></th>\n",
              "      <th></th>\n",
              "      <th></th>\n",
              "      <th></th>\n",
              "    </tr>\n",
              "  </thead>\n",
              "  <tbody>\n",
              "    <tr>\n",
              "      <th>187593</th>\n",
              "      <td>5.0</td>\n",
              "      <td>Deadpool 2 (2018)</td>\n",
              "      <td>Action|Comedy|Sci-Fi</td>\n",
              "      <td>6.0</td>\n",
              "      <td>4.333333</td>\n",
              "    </tr>\n",
              "    <tr>\n",
              "      <th>3752</th>\n",
              "      <td>5.0</td>\n",
              "      <td>Me, Myself &amp; Irene (2000)</td>\n",
              "      <td>Adventure|Comedy</td>\n",
              "      <td>19.0</td>\n",
              "      <td>3.184211</td>\n",
              "    </tr>\n",
              "    <tr>\n",
              "      <th>818</th>\n",
              "      <td>5.0</td>\n",
              "      <td>Very Brady Sequel, A (1996)</td>\n",
              "      <td>Comedy</td>\n",
              "      <td>5.0</td>\n",
              "      <td>3.400000</td>\n",
              "    </tr>\n",
              "    <tr>\n",
              "      <th>8636</th>\n",
              "      <td>5.0</td>\n",
              "      <td>Spider-Man 2 (2004)</td>\n",
              "      <td>Action|Adventure|Sci-Fi|IMAX</td>\n",
              "      <td>39.0</td>\n",
              "      <td>3.897436</td>\n",
              "    </tr>\n",
              "    <tr>\n",
              "      <th>802</th>\n",
              "      <td>5.0</td>\n",
              "      <td>Phenomenon (1996)</td>\n",
              "      <td>Drama|Romance</td>\n",
              "      <td>19.0</td>\n",
              "      <td>3.631579</td>\n",
              "    </tr>\n",
              "  </tbody>\n",
              "</table>\n",
              "</div>"
            ],
            "text/plain": [
              "         nota                       titulo  ... total_de_votos  nota_media\n",
              "filmeId                                     ...                           \n",
              "187593    5.0            Deadpool 2 (2018)  ...            6.0    4.333333\n",
              "3752      5.0    Me, Myself & Irene (2000)  ...           19.0    3.184211\n",
              "818       5.0  Very Brady Sequel, A (1996)  ...            5.0    3.400000\n",
              "8636      5.0          Spider-Man 2 (2004)  ...           39.0    3.897436\n",
              "802       5.0            Phenomenon (1996)  ...           19.0    3.631579\n",
              "\n",
              "[5 rows x 5 columns]"
            ]
          },
          "metadata": {
            "tags": []
          },
          "execution_count": 125
        }
      ]
    },
    {
      "cell_type": "code",
      "metadata": {
        "id": "dZwrlSi1QiCT"
      },
      "source": [
        "# K-nearest neighbors algorithm - KNN\n",
        "\n",
        "def knn(voce_id, k_mais_proximos = 10, numero_de_usuarios_a_analisar = None):\n",
        "  distancias = distancia_de_todos(voce_id, numero_de_usuarios_a_analisar = numero_de_usuarios_a_analisar)\n",
        "  distancias = distancias.sort_values(\"distancia\")\n",
        "  distancias = distancias.set_index(\"outra_pessoa\").drop(voce_id)\n",
        "  return distancias.head(k_mais_proximos)"
      ],
      "execution_count": 127,
      "outputs": []
    },
    {
      "cell_type": "code",
      "metadata": {
        "id": "qK57H5SqRb5w"
      },
      "source": [
        "def sugere_para(voce, k_mais_proximos = 10, numero_de_usuarios_a_analisar = None):\n",
        "  notas_de_voce = notas_do_usuario(voce)\n",
        "  filmes_que_voce_ja_viu = notas_de_voce.index\n",
        "\n",
        "  similares = knn(voce, k_mais_proximos = k_mais_proximos, numero_de_usuarios_a_analisar = numero_de_usuarios_a_analisar)\n",
        "  usuarios_similares = similares.index\n",
        "  notas_do_similares = notas.set_index(\"usuarioId\").loc[usuarios_similares]\n",
        "  recomendacoes = notas_do_similares.groupby(\"filmeId\").mean()[[\"nota\"]]\n",
        "  recomendacoes = recomendacoes.sort_values(\"nota\", ascending = False)\n",
        "  return recomendacoes.join(filmes).head()"
      ],
      "execution_count": 128,
      "outputs": []
    },
    {
      "cell_type": "markdown",
      "metadata": {
        "id": "QIiyzhFESQ2b"
      },
      "source": [
        "# Testar um usuário novo"
      ]
    },
    {
      "cell_type": "code",
      "metadata": {
        "colab": {
          "base_uri": "https://localhost:8080/",
          "height": 390
        },
        "id": "fk64sjoTSUAX",
        "outputId": "4a289020-65f1-40b2-88a2-73997df2d26f"
      },
      "source": [
        "filmes.loc[[122904, 1246, 2529, 2329, 2324, 1, 7, 2, 1196, 260]]"
      ],
      "execution_count": 129,
      "outputs": [
        {
          "output_type": "execute_result",
          "data": {
            "text/html": [
              "<div>\n",
              "<style scoped>\n",
              "    .dataframe tbody tr th:only-of-type {\n",
              "        vertical-align: middle;\n",
              "    }\n",
              "\n",
              "    .dataframe tbody tr th {\n",
              "        vertical-align: top;\n",
              "    }\n",
              "\n",
              "    .dataframe thead th {\n",
              "        text-align: right;\n",
              "    }\n",
              "</style>\n",
              "<table border=\"1\" class=\"dataframe\">\n",
              "  <thead>\n",
              "    <tr style=\"text-align: right;\">\n",
              "      <th></th>\n",
              "      <th>titulo</th>\n",
              "      <th>generos</th>\n",
              "      <th>total_de_votos</th>\n",
              "      <th>nota_media</th>\n",
              "    </tr>\n",
              "    <tr>\n",
              "      <th>filmeId</th>\n",
              "      <th></th>\n",
              "      <th></th>\n",
              "      <th></th>\n",
              "      <th></th>\n",
              "    </tr>\n",
              "  </thead>\n",
              "  <tbody>\n",
              "    <tr>\n",
              "      <th>122904</th>\n",
              "      <td>Deadpool (2016)</td>\n",
              "      <td>Action|Adventure|Comedy|Sci-Fi</td>\n",
              "      <td>27.0</td>\n",
              "      <td>3.814815</td>\n",
              "    </tr>\n",
              "    <tr>\n",
              "      <th>1246</th>\n",
              "      <td>Dead Poets Society (1989)</td>\n",
              "      <td>Drama</td>\n",
              "      <td>34.0</td>\n",
              "      <td>4.000000</td>\n",
              "    </tr>\n",
              "    <tr>\n",
              "      <th>2529</th>\n",
              "      <td>Planet of the Apes (1968)</td>\n",
              "      <td>Action|Drama|Sci-Fi</td>\n",
              "      <td>21.0</td>\n",
              "      <td>3.857143</td>\n",
              "    </tr>\n",
              "    <tr>\n",
              "      <th>2329</th>\n",
              "      <td>American History X (1998)</td>\n",
              "      <td>Crime|Drama</td>\n",
              "      <td>57.0</td>\n",
              "      <td>4.131579</td>\n",
              "    </tr>\n",
              "    <tr>\n",
              "      <th>2324</th>\n",
              "      <td>Life Is Beautiful (La Vita è bella) (1997)</td>\n",
              "      <td>Comedy|Drama|Romance|War</td>\n",
              "      <td>36.0</td>\n",
              "      <td>3.930556</td>\n",
              "    </tr>\n",
              "    <tr>\n",
              "      <th>1</th>\n",
              "      <td>Toy Story (1995)</td>\n",
              "      <td>Adventure|Animation|Children|Comedy|Fantasy</td>\n",
              "      <td>107.0</td>\n",
              "      <td>3.897196</td>\n",
              "    </tr>\n",
              "    <tr>\n",
              "      <th>7</th>\n",
              "      <td>Sabrina (1995)</td>\n",
              "      <td>Comedy|Romance</td>\n",
              "      <td>31.0</td>\n",
              "      <td>3.274194</td>\n",
              "    </tr>\n",
              "    <tr>\n",
              "      <th>2</th>\n",
              "      <td>Jumanji (1995)</td>\n",
              "      <td>Adventure|Children|Fantasy</td>\n",
              "      <td>45.0</td>\n",
              "      <td>3.366667</td>\n",
              "    </tr>\n",
              "    <tr>\n",
              "      <th>1196</th>\n",
              "      <td>Star Wars: Episode V - The Empire Strikes Back...</td>\n",
              "      <td>Action|Adventure|Sci-Fi</td>\n",
              "      <td>105.0</td>\n",
              "      <td>4.252381</td>\n",
              "    </tr>\n",
              "    <tr>\n",
              "      <th>260</th>\n",
              "      <td>Star Wars: Episode IV - A New Hope (1977)</td>\n",
              "      <td>Action|Adventure|Sci-Fi</td>\n",
              "      <td>119.0</td>\n",
              "      <td>4.256303</td>\n",
              "    </tr>\n",
              "  </tbody>\n",
              "</table>\n",
              "</div>"
            ],
            "text/plain": [
              "                                                    titulo  ... nota_media\n",
              "filmeId                                                     ...           \n",
              "122904                                     Deadpool (2016)  ...   3.814815\n",
              "1246                             Dead Poets Society (1989)  ...   4.000000\n",
              "2529                             Planet of the Apes (1968)  ...   3.857143\n",
              "2329                             American History X (1998)  ...   4.131579\n",
              "2324            Life Is Beautiful (La Vita è bella) (1997)  ...   3.930556\n",
              "1                                         Toy Story (1995)  ...   3.897196\n",
              "7                                           Sabrina (1995)  ...   3.274194\n",
              "2                                           Jumanji (1995)  ...   3.366667\n",
              "1196     Star Wars: Episode V - The Empire Strikes Back...  ...   4.252381\n",
              "260              Star Wars: Episode IV - A New Hope (1977)  ...   4.256303\n",
              "\n",
              "[10 rows x 4 columns]"
            ]
          },
          "metadata": {
            "tags": []
          },
          "execution_count": 129
        }
      ]
    },
    {
      "cell_type": "code",
      "metadata": {
        "id": "c97Zd_5FS6x3"
      },
      "source": [
        "def novo_usuario(dados):\n",
        "  novo_usuario = notas['usuarioId'].max()+1\n",
        "  notas_do_usuario_novo = pd.DataFrame(dados, columns=[\"filmeId\", \"nota\"])\n",
        "  notas_do_usuario_novo['usuarioId'] = novo_usuario\n",
        "  return pd.concat([notas, notas_do_usuario_novo])"
      ],
      "execution_count": 131,
      "outputs": []
    },
    {
      "cell_type": "code",
      "metadata": {
        "colab": {
          "base_uri": "https://localhost:8080/",
          "height": 204
        },
        "id": "u51IctuKUjKC",
        "outputId": "8ff9a049-91d2-4c0b-9f4a-e1b080455c3b"
      },
      "source": [
        "notas = novo_usuario([[122904,2],[1246,5],[2529,2],[2329,5],[2324,5],[1,2],[7,0.5],[2,2],[1196,1],[260,1]])\n",
        "notas.tail()"
      ],
      "execution_count": 132,
      "outputs": [
        {
          "output_type": "execute_result",
          "data": {
            "text/html": [
              "<div>\n",
              "<style scoped>\n",
              "    .dataframe tbody tr th:only-of-type {\n",
              "        vertical-align: middle;\n",
              "    }\n",
              "\n",
              "    .dataframe tbody tr th {\n",
              "        vertical-align: top;\n",
              "    }\n",
              "\n",
              "    .dataframe thead th {\n",
              "        text-align: right;\n",
              "    }\n",
              "</style>\n",
              "<table border=\"1\" class=\"dataframe\">\n",
              "  <thead>\n",
              "    <tr style=\"text-align: right;\">\n",
              "      <th></th>\n",
              "      <th>usuarioId</th>\n",
              "      <th>filmeId</th>\n",
              "      <th>nota</th>\n",
              "      <th>momento</th>\n",
              "    </tr>\n",
              "  </thead>\n",
              "  <tbody>\n",
              "    <tr>\n",
              "      <th>5</th>\n",
              "      <td>289</td>\n",
              "      <td>1</td>\n",
              "      <td>2.0</td>\n",
              "      <td>NaN</td>\n",
              "    </tr>\n",
              "    <tr>\n",
              "      <th>6</th>\n",
              "      <td>289</td>\n",
              "      <td>7</td>\n",
              "      <td>0.5</td>\n",
              "      <td>NaN</td>\n",
              "    </tr>\n",
              "    <tr>\n",
              "      <th>7</th>\n",
              "      <td>289</td>\n",
              "      <td>2</td>\n",
              "      <td>2.0</td>\n",
              "      <td>NaN</td>\n",
              "    </tr>\n",
              "    <tr>\n",
              "      <th>8</th>\n",
              "      <td>289</td>\n",
              "      <td>1196</td>\n",
              "      <td>1.0</td>\n",
              "      <td>NaN</td>\n",
              "    </tr>\n",
              "    <tr>\n",
              "      <th>9</th>\n",
              "      <td>289</td>\n",
              "      <td>260</td>\n",
              "      <td>1.0</td>\n",
              "      <td>NaN</td>\n",
              "    </tr>\n",
              "  </tbody>\n",
              "</table>\n",
              "</div>"
            ],
            "text/plain": [
              "   usuarioId  filmeId  nota  momento\n",
              "5        289        1   2.0      NaN\n",
              "6        289        7   0.5      NaN\n",
              "7        289        2   2.0      NaN\n",
              "8        289     1196   1.0      NaN\n",
              "9        289      260   1.0      NaN"
            ]
          },
          "metadata": {
            "tags": []
          },
          "execution_count": 132
        }
      ]
    },
    {
      "cell_type": "code",
      "metadata": {
        "colab": {
          "base_uri": "https://localhost:8080/",
          "height": 235
        },
        "id": "kiHm9ys2VIsQ",
        "outputId": "831a18f4-fb88-4057-9f0c-bc8f30b85d2f"
      },
      "source": [
        "sugere_para(61).head()"
      ],
      "execution_count": 135,
      "outputs": [
        {
          "output_type": "execute_result",
          "data": {
            "text/html": [
              "<div>\n",
              "<style scoped>\n",
              "    .dataframe tbody tr th:only-of-type {\n",
              "        vertical-align: middle;\n",
              "    }\n",
              "\n",
              "    .dataframe tbody tr th {\n",
              "        vertical-align: top;\n",
              "    }\n",
              "\n",
              "    .dataframe thead th {\n",
              "        text-align: right;\n",
              "    }\n",
              "</style>\n",
              "<table border=\"1\" class=\"dataframe\">\n",
              "  <thead>\n",
              "    <tr style=\"text-align: right;\">\n",
              "      <th></th>\n",
              "      <th>nota</th>\n",
              "      <th>titulo</th>\n",
              "      <th>generos</th>\n",
              "      <th>total_de_votos</th>\n",
              "      <th>nota_media</th>\n",
              "    </tr>\n",
              "    <tr>\n",
              "      <th>filmeId</th>\n",
              "      <th></th>\n",
              "      <th></th>\n",
              "      <th></th>\n",
              "      <th></th>\n",
              "      <th></th>\n",
              "    </tr>\n",
              "  </thead>\n",
              "  <tbody>\n",
              "    <tr>\n",
              "      <th>1889</th>\n",
              "      <td>5.0</td>\n",
              "      <td>Insomnia (1997)</td>\n",
              "      <td>Drama|Mystery|Thriller</td>\n",
              "      <td>4.0</td>\n",
              "      <td>3.875000</td>\n",
              "    </tr>\n",
              "    <tr>\n",
              "      <th>1089</th>\n",
              "      <td>5.0</td>\n",
              "      <td>Reservoir Dogs (1992)</td>\n",
              "      <td>Crime|Mystery|Thriller</td>\n",
              "      <td>58.0</td>\n",
              "      <td>4.206897</td>\n",
              "    </tr>\n",
              "    <tr>\n",
              "      <th>3083</th>\n",
              "      <td>5.0</td>\n",
              "      <td>All About My Mother (Todo sobre mi madre) (1999)</td>\n",
              "      <td>Drama</td>\n",
              "      <td>8.0</td>\n",
              "      <td>4.562500</td>\n",
              "    </tr>\n",
              "    <tr>\n",
              "      <th>3089</th>\n",
              "      <td>5.0</td>\n",
              "      <td>Bicycle Thieves (a.k.a. The Bicycle Thief) (a....</td>\n",
              "      <td>Drama</td>\n",
              "      <td>6.0</td>\n",
              "      <td>4.500000</td>\n",
              "    </tr>\n",
              "    <tr>\n",
              "      <th>122900</th>\n",
              "      <td>5.0</td>\n",
              "      <td>Ant-Man (2015)</td>\n",
              "      <td>Action|Adventure|Sci-Fi</td>\n",
              "      <td>10.0</td>\n",
              "      <td>4.050000</td>\n",
              "    </tr>\n",
              "  </tbody>\n",
              "</table>\n",
              "</div>"
            ],
            "text/plain": [
              "         nota  ... nota_media\n",
              "filmeId        ...           \n",
              "1889      5.0  ...   3.875000\n",
              "1089      5.0  ...   4.206897\n",
              "3083      5.0  ...   4.562500\n",
              "3089      5.0  ...   4.500000\n",
              "122900    5.0  ...   4.050000\n",
              "\n",
              "[5 rows x 5 columns]"
            ]
          },
          "metadata": {
            "tags": []
          },
          "execution_count": 135
        }
      ]
    },
    {
      "cell_type": "markdown",
      "metadata": {
        "id": "TC-G9-RfVV3X"
      },
      "source": [
        "#Utilizar somente as notas de filmes com mais de 50 votos"
      ]
    },
    {
      "cell_type": "code",
      "metadata": {
        "colab": {
          "base_uri": "https://localhost:8080/",
          "height": 235
        },
        "id": "2xjxxVEVVVp3",
        "outputId": "55d8add5-a135-46d2-f767-3f9d46a5f6c6"
      },
      "source": [
        "notas = notas.set_index(\"filmeId\").loc[filmes_com_mais_de_50_votos.index]\n",
        "notas.head()"
      ],
      "execution_count": 139,
      "outputs": [
        {
          "output_type": "execute_result",
          "data": {
            "text/html": [
              "<div>\n",
              "<style scoped>\n",
              "    .dataframe tbody tr th:only-of-type {\n",
              "        vertical-align: middle;\n",
              "    }\n",
              "\n",
              "    .dataframe tbody tr th {\n",
              "        vertical-align: top;\n",
              "    }\n",
              "\n",
              "    .dataframe thead th {\n",
              "        text-align: right;\n",
              "    }\n",
              "</style>\n",
              "<table border=\"1\" class=\"dataframe\">\n",
              "  <thead>\n",
              "    <tr style=\"text-align: right;\">\n",
              "      <th></th>\n",
              "      <th>usuarioId</th>\n",
              "      <th>nota</th>\n",
              "      <th>momento</th>\n",
              "    </tr>\n",
              "    <tr>\n",
              "      <th>filmeId</th>\n",
              "      <th></th>\n",
              "      <th></th>\n",
              "      <th></th>\n",
              "    </tr>\n",
              "  </thead>\n",
              "  <tbody>\n",
              "    <tr>\n",
              "      <th>1</th>\n",
              "      <td>1</td>\n",
              "      <td>4.0</td>\n",
              "      <td>9.649827e+08</td>\n",
              "    </tr>\n",
              "    <tr>\n",
              "      <th>1</th>\n",
              "      <td>5</td>\n",
              "      <td>4.0</td>\n",
              "      <td>8.474350e+08</td>\n",
              "    </tr>\n",
              "    <tr>\n",
              "      <th>1</th>\n",
              "      <td>7</td>\n",
              "      <td>4.5</td>\n",
              "      <td>1.106636e+09</td>\n",
              "    </tr>\n",
              "    <tr>\n",
              "      <th>1</th>\n",
              "      <td>15</td>\n",
              "      <td>2.5</td>\n",
              "      <td>1.510578e+09</td>\n",
              "    </tr>\n",
              "    <tr>\n",
              "      <th>1</th>\n",
              "      <td>17</td>\n",
              "      <td>4.5</td>\n",
              "      <td>1.305696e+09</td>\n",
              "    </tr>\n",
              "  </tbody>\n",
              "</table>\n",
              "</div>"
            ],
            "text/plain": [
              "         usuarioId  nota       momento\n",
              "filmeId                               \n",
              "1                1   4.0  9.649827e+08\n",
              "1                5   4.0  8.474350e+08\n",
              "1                7   4.5  1.106636e+09\n",
              "1               15   2.5  1.510578e+09\n",
              "1               17   4.5  1.305696e+09"
            ]
          },
          "metadata": {
            "tags": []
          },
          "execution_count": 139
        }
      ]
    },
    {
      "cell_type": "code",
      "metadata": {
        "colab": {
          "base_uri": "https://localhost:8080/",
          "height": 204
        },
        "id": "VUFNYmAJVMYU",
        "outputId": "dcccc3e3-4d0a-404c-b0ce-fda823535ccd"
      },
      "source": [
        "notas = notas.reset_index()\n",
        "notas.head()"
      ],
      "execution_count": 140,
      "outputs": [
        {
          "output_type": "execute_result",
          "data": {
            "text/html": [
              "<div>\n",
              "<style scoped>\n",
              "    .dataframe tbody tr th:only-of-type {\n",
              "        vertical-align: middle;\n",
              "    }\n",
              "\n",
              "    .dataframe tbody tr th {\n",
              "        vertical-align: top;\n",
              "    }\n",
              "\n",
              "    .dataframe thead th {\n",
              "        text-align: right;\n",
              "    }\n",
              "</style>\n",
              "<table border=\"1\" class=\"dataframe\">\n",
              "  <thead>\n",
              "    <tr style=\"text-align: right;\">\n",
              "      <th></th>\n",
              "      <th>filmeId</th>\n",
              "      <th>usuarioId</th>\n",
              "      <th>nota</th>\n",
              "      <th>momento</th>\n",
              "    </tr>\n",
              "  </thead>\n",
              "  <tbody>\n",
              "    <tr>\n",
              "      <th>0</th>\n",
              "      <td>1</td>\n",
              "      <td>1</td>\n",
              "      <td>4.0</td>\n",
              "      <td>9.649827e+08</td>\n",
              "    </tr>\n",
              "    <tr>\n",
              "      <th>1</th>\n",
              "      <td>1</td>\n",
              "      <td>5</td>\n",
              "      <td>4.0</td>\n",
              "      <td>8.474350e+08</td>\n",
              "    </tr>\n",
              "    <tr>\n",
              "      <th>2</th>\n",
              "      <td>1</td>\n",
              "      <td>7</td>\n",
              "      <td>4.5</td>\n",
              "      <td>1.106636e+09</td>\n",
              "    </tr>\n",
              "    <tr>\n",
              "      <th>3</th>\n",
              "      <td>1</td>\n",
              "      <td>15</td>\n",
              "      <td>2.5</td>\n",
              "      <td>1.510578e+09</td>\n",
              "    </tr>\n",
              "    <tr>\n",
              "      <th>4</th>\n",
              "      <td>1</td>\n",
              "      <td>17</td>\n",
              "      <td>4.5</td>\n",
              "      <td>1.305696e+09</td>\n",
              "    </tr>\n",
              "  </tbody>\n",
              "</table>\n",
              "</div>"
            ],
            "text/plain": [
              "   filmeId  usuarioId  nota       momento\n",
              "0        1          1   4.0  9.649827e+08\n",
              "1        1          5   4.0  8.474350e+08\n",
              "2        1          7   4.5  1.106636e+09\n",
              "3        1         15   2.5  1.510578e+09\n",
              "4        1         17   4.5  1.305696e+09"
            ]
          },
          "metadata": {
            "tags": []
          },
          "execution_count": 140
        }
      ]
    },
    {
      "cell_type": "code",
      "metadata": {
        "colab": {
          "base_uri": "https://localhost:8080/",
          "height": 235
        },
        "id": "XNdFerecVzuy",
        "outputId": "c6ff896a-8338-4c66-b310-fc8fc927bb69"
      },
      "source": [
        "sugere_para(61).head()"
      ],
      "execution_count": 141,
      "outputs": [
        {
          "output_type": "execute_result",
          "data": {
            "text/html": [
              "<div>\n",
              "<style scoped>\n",
              "    .dataframe tbody tr th:only-of-type {\n",
              "        vertical-align: middle;\n",
              "    }\n",
              "\n",
              "    .dataframe tbody tr th {\n",
              "        vertical-align: top;\n",
              "    }\n",
              "\n",
              "    .dataframe thead th {\n",
              "        text-align: right;\n",
              "    }\n",
              "</style>\n",
              "<table border=\"1\" class=\"dataframe\">\n",
              "  <thead>\n",
              "    <tr style=\"text-align: right;\">\n",
              "      <th></th>\n",
              "      <th>nota</th>\n",
              "      <th>titulo</th>\n",
              "      <th>generos</th>\n",
              "      <th>total_de_votos</th>\n",
              "      <th>nota_media</th>\n",
              "    </tr>\n",
              "    <tr>\n",
              "      <th>filmeId</th>\n",
              "      <th></th>\n",
              "      <th></th>\n",
              "      <th></th>\n",
              "      <th></th>\n",
              "      <th></th>\n",
              "    </tr>\n",
              "  </thead>\n",
              "  <tbody>\n",
              "    <tr>\n",
              "      <th>1136</th>\n",
              "      <td>5.000</td>\n",
              "      <td>Monty Python and the Holy Grail (1975)</td>\n",
              "      <td>Adventure|Comedy|Fantasy</td>\n",
              "      <td>65.0</td>\n",
              "      <td>4.146154</td>\n",
              "    </tr>\n",
              "    <tr>\n",
              "      <th>32</th>\n",
              "      <td>5.000</td>\n",
              "      <td>Twelve Monkeys (a.k.a. 12 Monkeys) (1995)</td>\n",
              "      <td>Mystery|Sci-Fi|Thriller</td>\n",
              "      <td>83.0</td>\n",
              "      <td>4.084337</td>\n",
              "    </tr>\n",
              "    <tr>\n",
              "      <th>858</th>\n",
              "      <td>5.000</td>\n",
              "      <td>Godfather, The (1972)</td>\n",
              "      <td>Crime|Drama</td>\n",
              "      <td>91.0</td>\n",
              "      <td>4.148352</td>\n",
              "    </tr>\n",
              "    <tr>\n",
              "      <th>293</th>\n",
              "      <td>5.000</td>\n",
              "      <td>Léon: The Professional (a.k.a. The Professiona...</td>\n",
              "      <td>Action|Crime|Drama|Thriller</td>\n",
              "      <td>58.0</td>\n",
              "      <td>4.025862</td>\n",
              "    </tr>\n",
              "    <tr>\n",
              "      <th>608</th>\n",
              "      <td>4.875</td>\n",
              "      <td>Fargo (1996)</td>\n",
              "      <td>Comedy|Crime|Drama|Thriller</td>\n",
              "      <td>90.0</td>\n",
              "      <td>4.183333</td>\n",
              "    </tr>\n",
              "  </tbody>\n",
              "</table>\n",
              "</div>"
            ],
            "text/plain": [
              "          nota  ... nota_media\n",
              "filmeId         ...           \n",
              "1136     5.000  ...   4.146154\n",
              "32       5.000  ...   4.084337\n",
              "858      5.000  ...   4.148352\n",
              "293      5.000  ...   4.025862\n",
              "608      4.875  ...   4.183333\n",
              "\n",
              "[5 rows x 5 columns]"
            ]
          },
          "metadata": {
            "tags": []
          },
          "execution_count": 141
        }
      ]
    },
    {
      "cell_type": "code",
      "metadata": {
        "id": "1L16-w7eV4A9"
      },
      "source": [
        "def sugere_para(voce, k_mais_proximos = 10, numero_de_usuarios_a_analisar = None):\n",
        "  notas_de_voce = notas_do_usuario(voce)\n",
        "  filmes_que_voce_ja_viu = notas_de_voce.index\n",
        "\n",
        "  similares = knn(voce, k_mais_proximos = k_mais_proximos, numero_de_usuarios_a_analisar = numero_de_usuarios_a_analisar)\n",
        "  usuarios_similares = similares.index\n",
        "  notas_do_similares = notas.set_index(\"usuarioId\").loc[usuarios_similares]\n",
        "  recomendacoes = notas_do_similares.groupby(\"filmeId\").mean()[[\"nota\"]]\n",
        "  aparicoes = notas_do_similares.groupby(\"filmeId\").count()[['nota']]\n",
        "\n",
        "  filtro_minimo = k_mais_proximos / 2\n",
        "  recomendacoes = recomendacoes.join(aparicoes, lsuffix = \"_media_dos_usuarios\", rsuffix = \"_aparicoes_nos_usuarios\")\n",
        "  recomendacoes.query(\"nota_aparicoes_nos_usuarios >=  %.2f\" % filtro_minimo)\n",
        "  recomendacoes = recomendacoes.sort_values(\"nota_media_dos_usuarios\", ascending = False)\n",
        "  recomendacoes = recomendacoes.drop(filmes_que_voce_ja_viu, errors = 'ignore')\n",
        "  return recomendacoes.join(filmes)"
      ],
      "execution_count": 162,
      "outputs": []
    },
    {
      "cell_type": "code",
      "metadata": {
        "id": "s44HzpNlXGXx"
      },
      "source": [
        "# K-nearest neighbors algorithm - KNN\n",
        "\n",
        "def knn(voce_id, k_mais_proximos = 10, numero_de_usuarios_a_analisar = None):\n",
        "  distancias = distancia_de_todos(voce_id, numero_de_usuarios_a_analisar = numero_de_usuarios_a_analisar)\n",
        "  distancias = distancias.sort_values(\"distancia\")\n",
        "  distancias = distancias.set_index(\"outra_pessoa\").drop(voce_id, errors = 'ignore')\n",
        "  return distancias.head(k_mais_proximos)"
      ],
      "execution_count": 163,
      "outputs": []
    },
    {
      "cell_type": "code",
      "metadata": {
        "colab": {
          "base_uri": "https://localhost:8080/",
          "height": 1000
        },
        "id": "JOIQtetSXCcg",
        "outputId": "de6b1798-deda-4d0f-9ddb-b4529da08e1c"
      },
      "source": [
        "sugere_para(1, numero_de_usuarios_a_analisar = 500)"
      ],
      "execution_count": 164,
      "outputs": [
        {
          "output_type": "execute_result",
          "data": {
            "text/html": [
              "<div>\n",
              "<style scoped>\n",
              "    .dataframe tbody tr th:only-of-type {\n",
              "        vertical-align: middle;\n",
              "    }\n",
              "\n",
              "    .dataframe tbody tr th {\n",
              "        vertical-align: top;\n",
              "    }\n",
              "\n",
              "    .dataframe thead th {\n",
              "        text-align: right;\n",
              "    }\n",
              "</style>\n",
              "<table border=\"1\" class=\"dataframe\">\n",
              "  <thead>\n",
              "    <tr style=\"text-align: right;\">\n",
              "      <th></th>\n",
              "      <th>nota_media_dos_usuarios</th>\n",
              "      <th>nota_aparicoes_nos_usuarios</th>\n",
              "      <th>titulo</th>\n",
              "      <th>generos</th>\n",
              "      <th>total_de_votos</th>\n",
              "      <th>nota_media</th>\n",
              "    </tr>\n",
              "    <tr>\n",
              "      <th>filmeId</th>\n",
              "      <th></th>\n",
              "      <th></th>\n",
              "      <th></th>\n",
              "      <th></th>\n",
              "      <th></th>\n",
              "      <th></th>\n",
              "    </tr>\n",
              "  </thead>\n",
              "  <tbody>\n",
              "    <tr>\n",
              "      <th>58559</th>\n",
              "      <td>5.000000</td>\n",
              "      <td>2</td>\n",
              "      <td>Dark Knight, The (2008)</td>\n",
              "      <td>Action|Crime|Drama|IMAX</td>\n",
              "      <td>67.0</td>\n",
              "      <td>4.350746</td>\n",
              "    </tr>\n",
              "    <tr>\n",
              "      <th>33794</th>\n",
              "      <td>5.000000</td>\n",
              "      <td>1</td>\n",
              "      <td>Batman Begins (2005)</td>\n",
              "      <td>Action|Crime|IMAX</td>\n",
              "      <td>51.0</td>\n",
              "      <td>3.901961</td>\n",
              "    </tr>\n",
              "    <tr>\n",
              "      <th>8961</th>\n",
              "      <td>5.000000</td>\n",
              "      <td>1</td>\n",
              "      <td>Incredibles, The (2004)</td>\n",
              "      <td>Action|Adventure|Animation|Children|Comedy</td>\n",
              "      <td>58.0</td>\n",
              "      <td>3.767241</td>\n",
              "    </tr>\n",
              "    <tr>\n",
              "      <th>3996</th>\n",
              "      <td>5.000000</td>\n",
              "      <td>2</td>\n",
              "      <td>Crouching Tiger, Hidden Dragon (Wo hu cang lon...</td>\n",
              "      <td>Action|Drama|Romance</td>\n",
              "      <td>50.0</td>\n",
              "      <td>3.950000</td>\n",
              "    </tr>\n",
              "    <tr>\n",
              "      <th>1193</th>\n",
              "      <td>5.000000</td>\n",
              "      <td>2</td>\n",
              "      <td>One Flew Over the Cuckoo's Nest (1975)</td>\n",
              "      <td>Drama</td>\n",
              "      <td>66.0</td>\n",
              "      <td>4.227273</td>\n",
              "    </tr>\n",
              "    <tr>\n",
              "      <th>5349</th>\n",
              "      <td>5.000000</td>\n",
              "      <td>1</td>\n",
              "      <td>Spider-Man (2002)</td>\n",
              "      <td>Action|Adventure|Sci-Fi|Thriller</td>\n",
              "      <td>58.0</td>\n",
              "      <td>3.500000</td>\n",
              "    </tr>\n",
              "    <tr>\n",
              "      <th>4993</th>\n",
              "      <td>4.833333</td>\n",
              "      <td>3</td>\n",
              "      <td>Lord of the Rings: The Fellowship of the Ring,...</td>\n",
              "      <td>Adventure|Fantasy</td>\n",
              "      <td>87.0</td>\n",
              "      <td>4.011494</td>\n",
              "    </tr>\n",
              "    <tr>\n",
              "      <th>5952</th>\n",
              "      <td>4.833333</td>\n",
              "      <td>3</td>\n",
              "      <td>Lord of the Rings: The Two Towers, The (2002)</td>\n",
              "      <td>Adventure|Fantasy</td>\n",
              "      <td>88.0</td>\n",
              "      <td>3.948864</td>\n",
              "    </tr>\n",
              "    <tr>\n",
              "      <th>7153</th>\n",
              "      <td>4.833333</td>\n",
              "      <td>3</td>\n",
              "      <td>Lord of the Rings: The Return of the King, The...</td>\n",
              "      <td>Action|Adventure|Drama|Fantasy</td>\n",
              "      <td>80.0</td>\n",
              "      <td>4.081250</td>\n",
              "    </tr>\n",
              "    <tr>\n",
              "      <th>293</th>\n",
              "      <td>4.750000</td>\n",
              "      <td>2</td>\n",
              "      <td>Léon: The Professional (a.k.a. The Professiona...</td>\n",
              "      <td>Action|Crime|Drama|Thriller</td>\n",
              "      <td>58.0</td>\n",
              "      <td>4.025862</td>\n",
              "    </tr>\n",
              "    <tr>\n",
              "      <th>1200</th>\n",
              "      <td>4.500000</td>\n",
              "      <td>1</td>\n",
              "      <td>Aliens (1986)</td>\n",
              "      <td>Action|Adventure|Horror|Sci-Fi</td>\n",
              "      <td>60.0</td>\n",
              "      <td>3.866667</td>\n",
              "    </tr>\n",
              "    <tr>\n",
              "      <th>4995</th>\n",
              "      <td>4.500000</td>\n",
              "      <td>1</td>\n",
              "      <td>Beautiful Mind, A (2001)</td>\n",
              "      <td>Drama|Romance</td>\n",
              "      <td>57.0</td>\n",
              "      <td>4.026316</td>\n",
              "    </tr>\n",
              "    <tr>\n",
              "      <th>318</th>\n",
              "      <td>4.500000</td>\n",
              "      <td>5</td>\n",
              "      <td>Shawshank Redemption, The (1994)</td>\n",
              "      <td>Crime|Drama</td>\n",
              "      <td>147.0</td>\n",
              "      <td>4.411565</td>\n",
              "    </tr>\n",
              "    <tr>\n",
              "      <th>1704</th>\n",
              "      <td>4.500000</td>\n",
              "      <td>1</td>\n",
              "      <td>Good Will Hunting (1997)</td>\n",
              "      <td>Drama|Romance</td>\n",
              "      <td>67.0</td>\n",
              "      <td>4.000000</td>\n",
              "    </tr>\n",
              "    <tr>\n",
              "      <th>858</th>\n",
              "      <td>4.333333</td>\n",
              "      <td>3</td>\n",
              "      <td>Godfather, The (1972)</td>\n",
              "      <td>Crime|Drama</td>\n",
              "      <td>91.0</td>\n",
              "      <td>4.148352</td>\n",
              "    </tr>\n",
              "    <tr>\n",
              "      <th>32</th>\n",
              "      <td>4.250000</td>\n",
              "      <td>2</td>\n",
              "      <td>Twelve Monkeys (a.k.a. 12 Monkeys) (1995)</td>\n",
              "      <td>Mystery|Sci-Fi|Thriller</td>\n",
              "      <td>83.0</td>\n",
              "      <td>4.084337</td>\n",
              "    </tr>\n",
              "    <tr>\n",
              "      <th>6874</th>\n",
              "      <td>4.000000</td>\n",
              "      <td>1</td>\n",
              "      <td>Kill Bill: Vol. 1 (2003)</td>\n",
              "      <td>Action|Crime|Thriller</td>\n",
              "      <td>64.0</td>\n",
              "      <td>3.859375</td>\n",
              "    </tr>\n",
              "    <tr>\n",
              "      <th>6539</th>\n",
              "      <td>4.000000</td>\n",
              "      <td>1</td>\n",
              "      <td>Pirates of the Caribbean: The Curse of the Bla...</td>\n",
              "      <td>Action|Adventure|Comedy|Fantasy</td>\n",
              "      <td>71.0</td>\n",
              "      <td>3.915493</td>\n",
              "    </tr>\n",
              "    <tr>\n",
              "      <th>4306</th>\n",
              "      <td>4.000000</td>\n",
              "      <td>1</td>\n",
              "      <td>Shrek (2001)</td>\n",
              "      <td>Adventure|Animation|Children|Comedy|Fantasy|Ro...</td>\n",
              "      <td>81.0</td>\n",
              "      <td>3.851852</td>\n",
              "    </tr>\n",
              "    <tr>\n",
              "      <th>6377</th>\n",
              "      <td>4.000000</td>\n",
              "      <td>1</td>\n",
              "      <td>Finding Nemo (2003)</td>\n",
              "      <td>Adventure|Animation|Children|Comedy</td>\n",
              "      <td>67.0</td>\n",
              "      <td>3.940299</td>\n",
              "    </tr>\n",
              "    <tr>\n",
              "      <th>79132</th>\n",
              "      <td>4.000000</td>\n",
              "      <td>3</td>\n",
              "      <td>Inception (2010)</td>\n",
              "      <td>Action|Crime|Drama|Mystery|Sci-Fi|Thriller|IMAX</td>\n",
              "      <td>61.0</td>\n",
              "      <td>4.008197</td>\n",
              "    </tr>\n",
              "    <tr>\n",
              "      <th>1968</th>\n",
              "      <td>4.000000</td>\n",
              "      <td>1</td>\n",
              "      <td>Breakfast Club, The (1985)</td>\n",
              "      <td>Comedy|Drama</td>\n",
              "      <td>51.0</td>\n",
              "      <td>3.647059</td>\n",
              "    </tr>\n",
              "    <tr>\n",
              "      <th>150</th>\n",
              "      <td>4.000000</td>\n",
              "      <td>2</td>\n",
              "      <td>Apollo 13 (1995)</td>\n",
              "      <td>Adventure|Drama|IMAX</td>\n",
              "      <td>100.0</td>\n",
              "      <td>3.865000</td>\n",
              "    </tr>\n",
              "    <tr>\n",
              "      <th>153</th>\n",
              "      <td>4.000000</td>\n",
              "      <td>1</td>\n",
              "      <td>Batman Forever (1995)</td>\n",
              "      <td>Action|Adventure|Comedy|Crime</td>\n",
              "      <td>70.0</td>\n",
              "      <td>2.942857</td>\n",
              "    </tr>\n",
              "    <tr>\n",
              "      <th>541</th>\n",
              "      <td>4.000000</td>\n",
              "      <td>1</td>\n",
              "      <td>Blade Runner (1982)</td>\n",
              "      <td>Action|Sci-Fi|Thriller</td>\n",
              "      <td>59.0</td>\n",
              "      <td>4.135593</td>\n",
              "    </tr>\n",
              "    <tr>\n",
              "      <th>1721</th>\n",
              "      <td>4.000000</td>\n",
              "      <td>2</td>\n",
              "      <td>Titanic (1997)</td>\n",
              "      <td>Drama|Romance</td>\n",
              "      <td>66.0</td>\n",
              "      <td>3.416667</td>\n",
              "    </tr>\n",
              "    <tr>\n",
              "      <th>597</th>\n",
              "      <td>3.500000</td>\n",
              "      <td>2</td>\n",
              "      <td>Pretty Woman (1990)</td>\n",
              "      <td>Comedy|Romance</td>\n",
              "      <td>61.0</td>\n",
              "      <td>3.549180</td>\n",
              "    </tr>\n",
              "    <tr>\n",
              "      <th>4226</th>\n",
              "      <td>3.500000</td>\n",
              "      <td>2</td>\n",
              "      <td>Memento (2000)</td>\n",
              "      <td>Mystery|Thriller</td>\n",
              "      <td>74.0</td>\n",
              "      <td>4.135135</td>\n",
              "    </tr>\n",
              "    <tr>\n",
              "      <th>7361</th>\n",
              "      <td>3.500000</td>\n",
              "      <td>3</td>\n",
              "      <td>Eternal Sunshine of the Spotless Mind (2004)</td>\n",
              "      <td>Drama|Romance|Sci-Fi</td>\n",
              "      <td>57.0</td>\n",
              "      <td>4.166667</td>\n",
              "    </tr>\n",
              "    <tr>\n",
              "      <th>1682</th>\n",
              "      <td>3.500000</td>\n",
              "      <td>1</td>\n",
              "      <td>Truman Show, The (1998)</td>\n",
              "      <td>Comedy|Drama|Sci-Fi</td>\n",
              "      <td>61.0</td>\n",
              "      <td>3.770492</td>\n",
              "    </tr>\n",
              "    <tr>\n",
              "      <th>7438</th>\n",
              "      <td>3.000000</td>\n",
              "      <td>2</td>\n",
              "      <td>Kill Bill: Vol. 2 (2004)</td>\n",
              "      <td>Action|Drama|Thriller</td>\n",
              "      <td>57.0</td>\n",
              "      <td>3.815789</td>\n",
              "    </tr>\n",
              "    <tr>\n",
              "      <th>39</th>\n",
              "      <td>3.000000</td>\n",
              "      <td>1</td>\n",
              "      <td>Clueless (1995)</td>\n",
              "      <td>Comedy|Romance</td>\n",
              "      <td>52.0</td>\n",
              "      <td>3.201923</td>\n",
              "    </tr>\n",
              "    <tr>\n",
              "      <th>4973</th>\n",
              "      <td>2.500000</td>\n",
              "      <td>1</td>\n",
              "      <td>Amelie (Fabuleux destin d'Amélie Poulain, Le) ...</td>\n",
              "      <td>Comedy|Romance</td>\n",
              "      <td>53.0</td>\n",
              "      <td>4.169811</td>\n",
              "    </tr>\n",
              "    <tr>\n",
              "      <th>4878</th>\n",
              "      <td>2.500000</td>\n",
              "      <td>2</td>\n",
              "      <td>Donnie Darko (2001)</td>\n",
              "      <td>Drama|Mystery|Sci-Fi|Thriller</td>\n",
              "      <td>50.0</td>\n",
              "      <td>3.800000</td>\n",
              "    </tr>\n",
              "    <tr>\n",
              "      <th>5418</th>\n",
              "      <td>2.500000</td>\n",
              "      <td>1</td>\n",
              "      <td>Bourne Identity, The (2002)</td>\n",
              "      <td>Action|Mystery|Thriller</td>\n",
              "      <td>54.0</td>\n",
              "      <td>3.787037</td>\n",
              "    </tr>\n",
              "  </tbody>\n",
              "</table>\n",
              "</div>"
            ],
            "text/plain": [
              "         nota_media_dos_usuarios  ...  nota_media\n",
              "filmeId                           ...            \n",
              "58559                   5.000000  ...    4.350746\n",
              "33794                   5.000000  ...    3.901961\n",
              "8961                    5.000000  ...    3.767241\n",
              "3996                    5.000000  ...    3.950000\n",
              "1193                    5.000000  ...    4.227273\n",
              "5349                    5.000000  ...    3.500000\n",
              "4993                    4.833333  ...    4.011494\n",
              "5952                    4.833333  ...    3.948864\n",
              "7153                    4.833333  ...    4.081250\n",
              "293                     4.750000  ...    4.025862\n",
              "1200                    4.500000  ...    3.866667\n",
              "4995                    4.500000  ...    4.026316\n",
              "318                     4.500000  ...    4.411565\n",
              "1704                    4.500000  ...    4.000000\n",
              "858                     4.333333  ...    4.148352\n",
              "32                      4.250000  ...    4.084337\n",
              "6874                    4.000000  ...    3.859375\n",
              "6539                    4.000000  ...    3.915493\n",
              "4306                    4.000000  ...    3.851852\n",
              "6377                    4.000000  ...    3.940299\n",
              "79132                   4.000000  ...    4.008197\n",
              "1968                    4.000000  ...    3.647059\n",
              "150                     4.000000  ...    3.865000\n",
              "153                     4.000000  ...    2.942857\n",
              "541                     4.000000  ...    4.135593\n",
              "1721                    4.000000  ...    3.416667\n",
              "597                     3.500000  ...    3.549180\n",
              "4226                    3.500000  ...    4.135135\n",
              "7361                    3.500000  ...    4.166667\n",
              "1682                    3.500000  ...    3.770492\n",
              "7438                    3.000000  ...    3.815789\n",
              "39                      3.000000  ...    3.201923\n",
              "4973                    2.500000  ...    4.169811\n",
              "4878                    2.500000  ...    3.800000\n",
              "5418                    2.500000  ...    3.787037\n",
              "\n",
              "[35 rows x 6 columns]"
            ]
          },
          "metadata": {
            "tags": []
          },
          "execution_count": 164
        }
      ]
    },
    {
      "cell_type": "code",
      "metadata": {
        "colab": {
          "base_uri": "https://localhost:8080/",
          "height": 390
        },
        "id": "zDsOIRkvXSKl",
        "outputId": "bf30cbc3-917c-4770-f81a-2adaa49ae0f4"
      },
      "source": [
        "sugere_para(61).head(10)"
      ],
      "execution_count": 165,
      "outputs": [
        {
          "output_type": "execute_result",
          "data": {
            "text/html": [
              "<div>\n",
              "<style scoped>\n",
              "    .dataframe tbody tr th:only-of-type {\n",
              "        vertical-align: middle;\n",
              "    }\n",
              "\n",
              "    .dataframe tbody tr th {\n",
              "        vertical-align: top;\n",
              "    }\n",
              "\n",
              "    .dataframe thead th {\n",
              "        text-align: right;\n",
              "    }\n",
              "</style>\n",
              "<table border=\"1\" class=\"dataframe\">\n",
              "  <thead>\n",
              "    <tr style=\"text-align: right;\">\n",
              "      <th></th>\n",
              "      <th>nota_media_dos_usuarios</th>\n",
              "      <th>nota_aparicoes_nos_usuarios</th>\n",
              "      <th>titulo</th>\n",
              "      <th>generos</th>\n",
              "      <th>total_de_votos</th>\n",
              "      <th>nota_media</th>\n",
              "    </tr>\n",
              "    <tr>\n",
              "      <th>filmeId</th>\n",
              "      <th></th>\n",
              "      <th></th>\n",
              "      <th></th>\n",
              "      <th></th>\n",
              "      <th></th>\n",
              "      <th></th>\n",
              "    </tr>\n",
              "  </thead>\n",
              "  <tbody>\n",
              "    <tr>\n",
              "      <th>1136</th>\n",
              "      <td>5.000000</td>\n",
              "      <td>2</td>\n",
              "      <td>Monty Python and the Holy Grail (1975)</td>\n",
              "      <td>Adventure|Comedy|Fantasy</td>\n",
              "      <td>65.0</td>\n",
              "      <td>4.146154</td>\n",
              "    </tr>\n",
              "    <tr>\n",
              "      <th>858</th>\n",
              "      <td>5.000000</td>\n",
              "      <td>1</td>\n",
              "      <td>Godfather, The (1972)</td>\n",
              "      <td>Crime|Drama</td>\n",
              "      <td>91.0</td>\n",
              "      <td>4.148352</td>\n",
              "    </tr>\n",
              "    <tr>\n",
              "      <th>608</th>\n",
              "      <td>4.875000</td>\n",
              "      <td>4</td>\n",
              "      <td>Fargo (1996)</td>\n",
              "      <td>Comedy|Crime|Drama|Thriller</td>\n",
              "      <td>90.0</td>\n",
              "      <td>4.183333</td>\n",
              "    </tr>\n",
              "    <tr>\n",
              "      <th>527</th>\n",
              "      <td>4.750000</td>\n",
              "      <td>2</td>\n",
              "      <td>Schindler's List (1993)</td>\n",
              "      <td>Drama|War</td>\n",
              "      <td>96.0</td>\n",
              "      <td>4.208333</td>\n",
              "    </tr>\n",
              "    <tr>\n",
              "      <th>364</th>\n",
              "      <td>4.750000</td>\n",
              "      <td>2</td>\n",
              "      <td>Lion King, The (1994)</td>\n",
              "      <td>Adventure|Animation|Children|Drama|Musical|IMAX</td>\n",
              "      <td>79.0</td>\n",
              "      <td>4.031646</td>\n",
              "    </tr>\n",
              "    <tr>\n",
              "      <th>1240</th>\n",
              "      <td>4.750000</td>\n",
              "      <td>2</td>\n",
              "      <td>Terminator, The (1984)</td>\n",
              "      <td>Action|Sci-Fi|Thriller</td>\n",
              "      <td>60.0</td>\n",
              "      <td>4.008333</td>\n",
              "    </tr>\n",
              "    <tr>\n",
              "      <th>58559</th>\n",
              "      <td>4.666667</td>\n",
              "      <td>3</td>\n",
              "      <td>Dark Knight, The (2008)</td>\n",
              "      <td>Action|Crime|Drama|IMAX</td>\n",
              "      <td>67.0</td>\n",
              "      <td>4.350746</td>\n",
              "    </tr>\n",
              "    <tr>\n",
              "      <th>6377</th>\n",
              "      <td>4.500000</td>\n",
              "      <td>5</td>\n",
              "      <td>Finding Nemo (2003)</td>\n",
              "      <td>Adventure|Animation|Children|Comedy</td>\n",
              "      <td>67.0</td>\n",
              "      <td>3.940299</td>\n",
              "    </tr>\n",
              "    <tr>\n",
              "      <th>1073</th>\n",
              "      <td>4.500000</td>\n",
              "      <td>2</td>\n",
              "      <td>Willy Wonka &amp; the Chocolate Factory (1971)</td>\n",
              "      <td>Children|Comedy|Fantasy|Musical</td>\n",
              "      <td>55.0</td>\n",
              "      <td>3.927273</td>\n",
              "    </tr>\n",
              "    <tr>\n",
              "      <th>4995</th>\n",
              "      <td>4.500000</td>\n",
              "      <td>4</td>\n",
              "      <td>Beautiful Mind, A (2001)</td>\n",
              "      <td>Drama|Romance</td>\n",
              "      <td>57.0</td>\n",
              "      <td>4.026316</td>\n",
              "    </tr>\n",
              "  </tbody>\n",
              "</table>\n",
              "</div>"
            ],
            "text/plain": [
              "         nota_media_dos_usuarios  ...  nota_media\n",
              "filmeId                           ...            \n",
              "1136                    5.000000  ...    4.146154\n",
              "858                     5.000000  ...    4.148352\n",
              "608                     4.875000  ...    4.183333\n",
              "527                     4.750000  ...    4.208333\n",
              "364                     4.750000  ...    4.031646\n",
              "1240                    4.750000  ...    4.008333\n",
              "58559                   4.666667  ...    4.350746\n",
              "6377                    4.500000  ...    3.940299\n",
              "1073                    4.500000  ...    3.927273\n",
              "4995                    4.500000  ...    4.026316\n",
              "\n",
              "[10 rows x 6 columns]"
            ]
          },
          "metadata": {
            "tags": []
          },
          "execution_count": 165
        }
      ]
    },
    {
      "cell_type": "code",
      "metadata": {
        "colab": {
          "base_uri": "https://localhost:8080/",
          "height": 390
        },
        "id": "frjZo8LJY7Vj",
        "outputId": "14e4ad1e-4c9d-4d32-aa41-3a3b32953c13"
      },
      "source": [
        "sugere_para(61, k_mais_proximos = 20).head(10)"
      ],
      "execution_count": 166,
      "outputs": [
        {
          "output_type": "execute_result",
          "data": {
            "text/html": [
              "<div>\n",
              "<style scoped>\n",
              "    .dataframe tbody tr th:only-of-type {\n",
              "        vertical-align: middle;\n",
              "    }\n",
              "\n",
              "    .dataframe tbody tr th {\n",
              "        vertical-align: top;\n",
              "    }\n",
              "\n",
              "    .dataframe thead th {\n",
              "        text-align: right;\n",
              "    }\n",
              "</style>\n",
              "<table border=\"1\" class=\"dataframe\">\n",
              "  <thead>\n",
              "    <tr style=\"text-align: right;\">\n",
              "      <th></th>\n",
              "      <th>nota_media_dos_usuarios</th>\n",
              "      <th>nota_aparicoes_nos_usuarios</th>\n",
              "      <th>titulo</th>\n",
              "      <th>generos</th>\n",
              "      <th>total_de_votos</th>\n",
              "      <th>nota_media</th>\n",
              "    </tr>\n",
              "    <tr>\n",
              "      <th>filmeId</th>\n",
              "      <th></th>\n",
              "      <th></th>\n",
              "      <th></th>\n",
              "      <th></th>\n",
              "      <th></th>\n",
              "      <th></th>\n",
              "    </tr>\n",
              "  </thead>\n",
              "  <tbody>\n",
              "    <tr>\n",
              "      <th>858</th>\n",
              "      <td>5.000000</td>\n",
              "      <td>3</td>\n",
              "      <td>Godfather, The (1972)</td>\n",
              "      <td>Crime|Drama</td>\n",
              "      <td>91.0</td>\n",
              "      <td>4.148352</td>\n",
              "    </tr>\n",
              "    <tr>\n",
              "      <th>231</th>\n",
              "      <td>4.875000</td>\n",
              "      <td>4</td>\n",
              "      <td>Dumb &amp; Dumber (Dumb and Dumber) (1994)</td>\n",
              "      <td>Adventure|Comedy</td>\n",
              "      <td>62.0</td>\n",
              "      <td>3.193548</td>\n",
              "    </tr>\n",
              "    <tr>\n",
              "      <th>1136</th>\n",
              "      <td>4.857143</td>\n",
              "      <td>7</td>\n",
              "      <td>Monty Python and the Holy Grail (1975)</td>\n",
              "      <td>Adventure|Comedy|Fantasy</td>\n",
              "      <td>65.0</td>\n",
              "      <td>4.146154</td>\n",
              "    </tr>\n",
              "    <tr>\n",
              "      <th>608</th>\n",
              "      <td>4.833333</td>\n",
              "      <td>9</td>\n",
              "      <td>Fargo (1996)</td>\n",
              "      <td>Comedy|Crime|Drama|Thriller</td>\n",
              "      <td>90.0</td>\n",
              "      <td>4.183333</td>\n",
              "    </tr>\n",
              "    <tr>\n",
              "      <th>58559</th>\n",
              "      <td>4.800000</td>\n",
              "      <td>5</td>\n",
              "      <td>Dark Knight, The (2008)</td>\n",
              "      <td>Action|Crime|Drama|IMAX</td>\n",
              "      <td>67.0</td>\n",
              "      <td>4.350746</td>\n",
              "    </tr>\n",
              "    <tr>\n",
              "      <th>1073</th>\n",
              "      <td>4.666667</td>\n",
              "      <td>6</td>\n",
              "      <td>Willy Wonka &amp; the Chocolate Factory (1971)</td>\n",
              "      <td>Children|Comedy|Fantasy|Musical</td>\n",
              "      <td>55.0</td>\n",
              "      <td>3.927273</td>\n",
              "    </tr>\n",
              "    <tr>\n",
              "      <th>527</th>\n",
              "      <td>4.666667</td>\n",
              "      <td>6</td>\n",
              "      <td>Schindler's List (1993)</td>\n",
              "      <td>Drama|War</td>\n",
              "      <td>96.0</td>\n",
              "      <td>4.208333</td>\n",
              "    </tr>\n",
              "    <tr>\n",
              "      <th>47</th>\n",
              "      <td>4.642857</td>\n",
              "      <td>7</td>\n",
              "      <td>Seven (a.k.a. Se7en) (1995)</td>\n",
              "      <td>Mystery|Thriller</td>\n",
              "      <td>98.0</td>\n",
              "      <td>3.979592</td>\n",
              "    </tr>\n",
              "    <tr>\n",
              "      <th>364</th>\n",
              "      <td>4.600000</td>\n",
              "      <td>5</td>\n",
              "      <td>Lion King, The (1994)</td>\n",
              "      <td>Adventure|Animation|Children|Drama|Musical|IMAX</td>\n",
              "      <td>79.0</td>\n",
              "      <td>4.031646</td>\n",
              "    </tr>\n",
              "    <tr>\n",
              "      <th>5418</th>\n",
              "      <td>4.583333</td>\n",
              "      <td>6</td>\n",
              "      <td>Bourne Identity, The (2002)</td>\n",
              "      <td>Action|Mystery|Thriller</td>\n",
              "      <td>54.0</td>\n",
              "      <td>3.787037</td>\n",
              "    </tr>\n",
              "  </tbody>\n",
              "</table>\n",
              "</div>"
            ],
            "text/plain": [
              "         nota_media_dos_usuarios  ...  nota_media\n",
              "filmeId                           ...            \n",
              "858                     5.000000  ...    4.148352\n",
              "231                     4.875000  ...    3.193548\n",
              "1136                    4.857143  ...    4.146154\n",
              "608                     4.833333  ...    4.183333\n",
              "58559                   4.800000  ...    4.350746\n",
              "1073                    4.666667  ...    3.927273\n",
              "527                     4.666667  ...    4.208333\n",
              "47                      4.642857  ...    3.979592\n",
              "364                     4.600000  ...    4.031646\n",
              "5418                    4.583333  ...    3.787037\n",
              "\n",
              "[10 rows x 6 columns]"
            ]
          },
          "metadata": {
            "tags": []
          },
          "execution_count": 166
        }
      ]
    },
    {
      "cell_type": "code",
      "metadata": {
        "id": "DCPMxWwFY_DV"
      },
      "source": [
        ""
      ],
      "execution_count": null,
      "outputs": []
    }
  ]
}